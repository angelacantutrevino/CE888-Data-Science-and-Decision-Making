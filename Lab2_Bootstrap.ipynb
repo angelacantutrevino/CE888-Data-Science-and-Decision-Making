{
  "nbformat": 4,
  "nbformat_minor": 0,
  "metadata": {
    "colab": {
      "name": "Lab2_Bootstrap.ipynb",
      "provenance": [],
      "collapsed_sections": [],
      "include_colab_link": true
    },
    "kernelspec": {
      "display_name": "Python 3",
      "language": "python",
      "name": "python3"
    },
    "language_info": {
      "codemirror_mode": {
        "name": "ipython",
        "version": 3
      },
      "file_extension": ".py",
      "mimetype": "text/x-python",
      "name": "python",
      "nbconvert_exporter": "python",
      "pygments_lexer": "ipython3",
      "version": "3.7.6"
    },
    "pycharm": {
      "stem_cell": {
        "cell_type": "raw",
        "metadata": {
          "collapsed": false
        },
        "source": []
      }
    }
  },
  "cells": [
    {
      "cell_type": "markdown",
      "metadata": {
        "id": "view-in-github",
        "colab_type": "text"
      },
      "source": [
        "<a href=\"https://colab.research.google.com/github/angelacantutrevino/CE888-Data-Science-and-Decision-Making/blob/main/Lab2_Bootstrap.ipynb\" target=\"_parent\"><img src=\"https://colab.research.google.com/assets/colab-badge.svg\" alt=\"Open In Colab\"/></a>"
      ]
    },
    {
      "cell_type": "markdown",
      "metadata": {
        "id": "nCi_99yMYIb1"
      },
      "source": [
        "In this notebook you'll create your own bootstrap function following the bootstrap algorithm (check the lecture notes!)"
      ]
    },
    {
      "cell_type": "code",
      "metadata": {
        "id": "LY5zujI2YC37",
        "pycharm": {
          "name": "#%%# Imports\n"
        }
      },
      "source": [
        "import matplotlib\n",
        "import pandas as pd\n",
        "import seaborn as sns\n",
        "import numpy as np"
      ],
      "execution_count": 21,
      "outputs": []
    },
    {
      "cell_type": "code",
      "metadata": {
        "id": "Eqkwj4SMY38t"
      },
      "source": [
        "# Load the data\n",
        "df = pd.read_csv('https://raw.githubusercontent.com/albanda/CE888/master/lab2%20-%20bootstrap/customers.csv')\n",
        "data = df.values.T[1]"
      ],
      "execution_count": 22,
      "outputs": []
    },
    {
      "cell_type": "code",
      "metadata": {
        "id": "Gxvc_bScYC4H",
        "pycharm": {
          "name": "#%%\n"
        }
      },
      "source": [
        "# Checking the notes from the lecture, create here your own bootstrap function:\n",
        "def bootstrap_mean(x, sample_size, n_bootstraps):\n",
        "\t# 1. Sample from the input array x to create an array of samples of shape (n_bootstraps, sample_size)\n",
        "\tsample_array = np.random.choice(x, size=[n_bootstraps, sample_size])\n",
        "\t# 2. Calculate and save the mean of the array (this is \"data_mean\" that is returned by the function)\n",
        "\tdata_mean = np.mean(sample_array)\n",
        "\t# 3. Calculate the mean from each bootstrap (i.e., row) and store it.\n",
        "\tbootstrap_mean = np.mean(sample_array, axis=1)\n",
        "\t# 4. Calculate the lower and upper bounds for a 95% CI (hint: check the percentile function on Numpy)\n",
        "\tlower = np.percentile(bootstrap_mean, 2.5)\n",
        "\tupper = np.percentile(bootstrap_mean, 97.5)\n",
        "\treturn data_mean, lower, upper"
      ],
      "execution_count": 23,
      "outputs": []
    },
    {
      "cell_type": "code",
      "metadata": {
        "id": "AN7sEOcMYC4P",
        "pycharm": {
          "name": "#%%\n"
        },
        "colab": {
          "base_uri": "https://localhost:8080/",
          "height": 441
        },
        "outputId": "128ed9f1-0321-4d6e-e021-bb6da3eb91a6"
      },
      "source": [
        "# Call your bootstrap function and plot the results\n",
        "\n",
        "boots = []\n",
        "for i in range(100, 50000, 1000):\n",
        "    boot = bootstrap_mean(data, data.shape[0], i)\n",
        "    boots.append([i, boot[0], \"mean\"])\n",
        "    boots.append([i, boot[1], \"lower\"])\n",
        "    boots.append([i, boot[2], \"upper\"])\n",
        "\n",
        "df_boot = pd.DataFrame(boots, columns=['Bootstrap Iterations', 'Mean', \"Value\"])\n",
        "sns_plot = sns.lmplot(df_boot.columns[0], df_boot.columns[1], data=df_boot, fit_reg=False, hue=\"Value\")\n",
        "\n",
        "sns_plot.axes[0, 0].set_ylim(0,)\n",
        "sns_plot.axes[0, 0].set_xlim(0, 50000)"
      ],
      "execution_count": 24,
      "outputs": [
        {
          "output_type": "stream",
          "name": "stderr",
          "text": [
            "/usr/local/lib/python3.7/dist-packages/seaborn/_decorators.py:43: FutureWarning: Pass the following variables as keyword args: x, y. From version 0.12, the only valid positional argument will be `data`, and passing other arguments without an explicit keyword will result in an error or misinterpretation.\n",
            "  FutureWarning\n"
          ]
        },
        {
          "output_type": "execute_result",
          "data": {
            "text/plain": [
              "(0.0, 50000.0)"
            ]
          },
          "metadata": {},
          "execution_count": 24
        },
        {
          "output_type": "display_data",
          "data": {
            "image/png": "[encoded data removed]",
            "text/plain": [
              "<Figure size 425.125x360 with 1 Axes>"
            ]
          },
          "metadata": {
            "needs_background": "light"
          }
        }
      ]
    },
    {
      "cell_type": "markdown",
      "metadata": {
        "id": "MjtP4e2_YC4V"
      },
      "source": [
        "\n",
        "Now, modify the bootstrap function you created above so that you can pass your desired confidence interval as a parameter.\n",
        "\n"
      ]
    },
    {
      "cell_type": "code",
      "metadata": {
        "id": "3K9j0FuGYhHs"
      },
      "source": [
        "def bootstrap_mean_ci(sample, sample_size, n_bootstraps, ci):\n",
        "\t# 1. Sample from the input array x to create an array of samples of shape (n_bootstraps, sample_size)\n",
        "\tsample_array = np.random.choice(sample, size=[n_bootstraps, sample_size])\n",
        "\t# 2. Calculate and save the mean of the array (this is \"data_mean\" that is returned by the function)\n",
        "\tdata_mean = np.mean(sample_array)\n",
        "\t# 3. Calculate the mean from each bootstrap (i.e., row) and store it.\n",
        "\tbootstrap_mean = np.mean(sample_array, axis=1)\n",
        "\t# 4. Calculate the lower and upper bounds for a CI (hint: check the percentile function on Numpy)\n",
        "\tlower_percentile = (100-ci)/2\n",
        "\tupper_percentile = ci + (100-ci)/2\n",
        "\tlower = np.percentile(bootstrap_mean, lower_percentile)\n",
        "\tupper = np.percentile(bootstrap_mean, upper_percentile)\n",
        "\treturn data_mean, lower, upper"
      ],
      "execution_count": 25,
      "outputs": []
    },
    {
      "cell_type": "code",
      "source": [
        "def bootstrap_std_ci(sample, sample_size, n_bootstraps, ci):\n",
        "\tsample_array = np.random.choice(sample,(n_bootstraps, sample_size))\n",
        "\tdata_mean = np.std(sample_array)\n",
        "\tbootstrap_mean = np.std(sample_array, axis=1)\n",
        "\tlower = np.percentile(bootstrap_mean, (100-ci)/2)\n",
        "\tupper = np.percentile(bootstrap_mean, (ci+(100-ci)/2))\n",
        "\treturn data_mean, lower, upper"
      ],
      "metadata": {
        "id": "mNZplUT87Mpb"
      },
      "execution_count": 28,
      "outputs": []
    },
    {
      "cell_type": "code",
      "metadata": {
        "id": "uDnjq08GYl-C",
        "colab": {
          "base_uri": "https://localhost:8080/",
          "height": 441
        },
        "outputId": "02c25623-9098-4b90-c9ff-aa7945840242"
      },
      "source": [
        "boots = []\n",
        "for i in range(100, 50000, 1000):\n",
        "    boot = bootstrap_mean_ci(data, data.shape[0], i, 80)\n",
        "    boots.append([i, boot[0], \"mean\"])\n",
        "    boots.append([i, boot[1], \"lower\"])\n",
        "    boots.append([i, boot[2], \"upper\"])\n",
        "\n",
        "df_boot = pd.DataFrame(boots, columns=['Boostrap Iterations', 'Mean', \"Value\"])\n",
        "sns_plot = sns.lmplot(df_boot.columns[0], df_boot.columns[1], data=df_boot, fit_reg=False, hue=\"Value\")\n",
        "\n",
        "sns_plot.axes[0, 0].set_ylim(0,)\n",
        "sns_plot.axes[0, 0].set_xlim(0, 50000)\n",
        "\n",
        "#sns_plot.savefig(\"bootstrap_confidence_80.pdf\", bbox_inches='tight')\n"
      ],
      "execution_count": 29,
      "outputs": [
        {
          "output_type": "stream",
          "name": "stderr",
          "text": [
            "/usr/local/lib/python3.7/dist-packages/seaborn/_decorators.py:43: FutureWarning: Pass the following variables as keyword args: x, y. From version 0.12, the only valid positional argument will be `data`, and passing other arguments without an explicit keyword will result in an error or misinterpretation.\n",
            "  FutureWarning\n"
          ]
        },
        {
          "output_type": "execute_result",
          "data": {
            "text/plain": [
              "(0.0, 50000.0)"
            ]
          },
          "metadata": {},
          "execution_count": 29
        },
        {
          "output_type": "display_data",
          "data": {
            "image/png": "[encoded data removed]",
            "text/plain": [
              "<Figure size 425.125x360 with 1 Axes>"
            ]
          },
          "metadata": {
            "needs_background": "light"
          }
        }
      ]
    },
    {
      "cell_type": "markdown",
      "metadata": {
        "id": "qjNgXW6wdd7r"
      },
      "source": [
        "# Vehicles dataset\n",
        "\n",
        "Now let's work on a different dataset, which is stored in the vehicles.csv file.\n"
      ]
    },
    {
      "cell_type": "code",
      "metadata": {
        "id": "avWv4ipFdpka",
        "colab": {
          "base_uri": "https://localhost:8080/",
          "height": 828
        },
        "outputId": "d3f07ea5-c549-4ed7-b2f3-872c8309f129"
      },
      "source": [
        "# Load and visualise the vehicles dataset\n",
        "# To load the dataset: https://neptune.ai/blog/google-colab-dealing-with-files (check section \"Load individual files directly from GitHub\")\n",
        "df = pd.read_csv('https://raw.githubusercontent.com/albanda/CE888/master/lab2%20-%20bootstrap/vehicles.csv')\n",
        "\n",
        "# Note that the current and new fleets are in different columns and have different lengths, so bear this in mind when you're plotting.\n",
        "# You can create separate scatterplots for the two fleets, as you would with the histograms, \n",
        "# or plot them both in one plot (but not one against the other).\n",
        "\n",
        "# Scatterplot \n",
        "sns.lmplot(df.columns[0], df.columns[1],data=df, fit_reg=False)\n",
        "\n",
        "boots = []\n",
        "for i in range(100, 50000, 1000):\n",
        "    boot = bootstrap_mean_ci(data, data.shape[0], i, 80)\n",
        "    boots.append([i, boot[0], \"mean\"])\n",
        "    boots.append([i, boot[1], \"lower\"])\n",
        "    boots.append([i, boot[2], \"upper\"])\n",
        "\n",
        "df_boot = pd.DataFrame(boots, columns=['Boostrap Iterations', 'Mean', \"Value\"])\n",
        "sns_plot = sns.lmplot(df_boot.columns[0], df_boot.columns[1], data=df_boot, fit_reg=False, hue=\"Value\")\n",
        "\n",
        "sns_plot.axes[0, 0].set_ylim(0,)\n",
        "sns_plot.axes[0, 0].set_xlim(0, 50000)\n"
      ],
      "execution_count": 30,
      "outputs": [
        {
          "output_type": "stream",
          "name": "stderr",
          "text": [
            "/usr/local/lib/python3.7/dist-packages/seaborn/_decorators.py:43: FutureWarning: Pass the following variables as keyword args: x, y. From version 0.12, the only valid positional argument will be `data`, and passing other arguments without an explicit keyword will result in an error or misinterpretation.\n",
            "  FutureWarning\n",
            "/usr/local/lib/python3.7/dist-packages/seaborn/_decorators.py:43: FutureWarning: Pass the following variables as keyword args: x, y. From version 0.12, the only valid positional argument will be `data`, and passing other arguments without an explicit keyword will result in an error or misinterpretation.\n",
            "  FutureWarning\n"
          ]
        },
        {
          "output_type": "execute_result",
          "data": {
            "text/plain": [
              "(0.0, 50000.0)"
            ]
          },
          "metadata": {},
          "execution_count": 30
        },
        {
          "output_type": "display_data",
          "data": {
            "image/png": "[encoded data removed]",
            "text/plain": [
              "<Figure size 360x360 with 1 Axes>"
            ]
          },
          "metadata": {
            "needs_background": "light"
          }
        },
        {
          "output_type": "display_data",
          "data": {
            "image/png": "[encoded data removed]",
            "text/plain": [
              "<Figure size 425.125x360 with 1 Axes>"
            ]
          },
          "metadata": {
            "needs_background": "light"
          }
        }
      ]
    },
    {
      "cell_type": "markdown",
      "metadata": {
        "id": "B5d0tXDpIEj8"
      },
      "source": [
        "## Compare the two fleets\n",
        "\n",
        "The business analysts come up a comparison algorithm that requires the upper and lower bounds for the mean in order to say which fleet is better.\n",
        "1. Calculate the mean of both samples.\n",
        "2. Using the bootstrap function that you created:\n",
        "    - Construct the 95% CI of the mean of the current fleet.\n",
        "    - Construct the 95% CI of the mean of the new fleet.\n",
        "    - Are they comparable? (i.e., is one better than the other?) -- you can do this with a permutation test (check the lecture notes!)"
      ]
    },
    {
      "cell_type": "code",
      "metadata": {
        "id": "po4mp6zRHC0m",
        "colab": {
          "base_uri": "https://localhost:8080/"
        },
        "outputId": "ff14e750-5212-4325-f049-8cf090d86c9c"
      },
      "source": [
        "# Separate Data\n",
        "df_current = df.iloc[:,0]\n",
        "df_new = df.iloc[:,1].dropna()\n",
        "current_data = df_current.values\n",
        "new_data = df_new.values\n",
        "\n",
        "# Current and New Fleet Means\n",
        "current_mean, new_mean = np.mean(df, axis=0)\n",
        "print(current_mean, new_mean)\n",
        "print(\"Current Fleet Mean: \" + str(bootstrap_mean_ci(current_data, current_data.shape[0], 10000, 95)))\n",
        "print(\"New Fleet Mean: \" + str(bootstrap_mean_ci(new_data, new_data.shape[0], 10000, 95)))"
      ],
      "execution_count": 31,
      "outputs": [
        {
          "output_type": "stream",
          "name": "stdout",
          "text": [
            "20.14457831325301 30.481012658227847\n",
            "Current Fleet Mean: (20.142736144578315, 19.34538152610442, 20.963955823293173)\n",
            "New Fleet Mean: (30.47446075949367, 29.139240506329113, 31.79746835443038)\n"
          ]
        }
      ]
    },
    {
      "cell_type": "code",
      "metadata": {
        "id": "MkxvDZG4HC0n"
      },
      "source": [
        "# Create your own function for a permutation test here (you will need it for the lab quiz!):\n",
        "def permut_test(sample1, sample2, n_permutations):\n",
        "    \"\"\"\n",
        "    sample1: 1D array\n",
        "    sample2: 1D array (note that the size of the two arrays can be different)\n",
        "    n_permutations: number of permutations to calculate the p-value\n",
        "    \"\"\"\n",
        "    tValue = np.mean(sample2) - np.mean(sample1)\n",
        "    pValue = 0\n",
        "    concatenation = np.concatenate((sample1,sample2))\n",
        "    \n",
        "    for i in range(n_permutations):\n",
        "        permutation = np.random.permutation(concatenation)\n",
        "        sample_perm1 = permutation[:len(sample1)]\n",
        "        sample_perm2 = permutation[len(sample2):]\n",
        "\n",
        "        if (np.mean(sample_perm2)-np.mean(sample_perm1)) > tValue:\n",
        "            pValue += 1\n",
        "\n",
        "    return pValue/n_permutations"
      ],
      "execution_count": 32,
      "outputs": []
    },
    {
      "cell_type": "markdown",
      "source": [
        "# Quiz Questions"
      ],
      "metadata": {
        "id": "_fCeYjkU4JVs"
      }
    },
    {
      "cell_type": "markdown",
      "source": [
        "The 95% confidence interval for the mean of the customers dataset using 10000 iterations is:"
      ],
      "metadata": {
        "id": "nBQ9DCYj4O2t"
      }
    },
    {
      "cell_type": "code",
      "source": [
        "print(bootstrap_mean_ci(data, data.shape[0], 10000, 95))"
      ],
      "metadata": {
        "colab": {
          "base_uri": "https://localhost:8080/"
        },
        "id": "X0PY5FnQ4fOH",
        "outputId": "6a6a8473-0c8c-4b7b-912a-5511369038b8"
      },
      "execution_count": 41,
      "outputs": [
        {
          "output_type": "stream",
          "name": "stdout",
          "text": [
            "(9.183507142857144, 6.428571428571429, 12.287499999999975)\n"
          ]
        }
      ]
    },
    {
      "cell_type": "markdown",
      "source": [
        "The 85% confidence interval for the mean of the old fleet in the vehicles dataset using 10000 iterations is:"
      ],
      "metadata": {
        "id": "um1AhJ5R4iwu"
      }
    },
    {
      "cell_type": "code",
      "source": [
        "print(bootstrap_mean_ci(current_data, current_data.shape[0], 10000, 85))"
      ],
      "metadata": {
        "colab": {
          "base_uri": "https://localhost:8080/"
        },
        "id": "yurex5jl4Hb0",
        "outputId": "7b93c4c7-aa2a-45ed-8894-d075d3980776"
      },
      "execution_count": 42,
      "outputs": [
        {
          "output_type": "stream",
          "name": "stdout",
          "text": [
            "(20.141697590361446, 19.570281124497992, 20.718875502008032)\n"
          ]
        }
      ]
    },
    {
      "cell_type": "markdown",
      "source": [
        "The 95% confidence interval for the standard deviation of the new fleet in the vehicles dataset using 10000 iterations is:"
      ],
      "metadata": {
        "id": "_eKtS8NO8Ndt"
      }
    },
    {
      "cell_type": "code",
      "source": [
        "print(bootstrap_std_ci(new_data, new_data.shape[0], 10000, 95))"
      ],
      "metadata": {
        "colab": {
          "base_uri": "https://localhost:8080/"
        },
        "id": "L44E6TxD8aOz",
        "outputId": "b2f6852d-4866-4a44-99bc-cd76220a57af"
      },
      "execution_count": 43,
      "outputs": [
        {
          "output_type": "stream",
          "name": "stdout",
          "text": [
            "(6.063144861823164, 5.148916026978806, 6.8955549478733404)\n"
          ]
        }
      ]
    },
    {
      "cell_type": "markdown",
      "source": [
        "The 90% confidence interval for the standard deviation of the customers dataset using 10000 iterations is:"
      ],
      "metadata": {
        "id": "RZ40FFzXGBrh"
      }
    },
    {
      "cell_type": "code",
      "source": [
        "print(bootstrap_std_ci(data, data.shape[0], 10000, 90))"
      ],
      "metadata": {
        "colab": {
          "base_uri": "https://localhost:8080/"
        },
        "id": "4l-zbecLGE0r",
        "outputId": "0b8fe7bd-c619-43ed-9b7a-9b8503afae66"
      },
      "execution_count": 44,
      "outputs": [
        {
          "output_type": "stream",
          "name": "stdout",
          "text": [
            "(5.693196496625044, 3.0438965360946453, 7.101307726649468)\n"
          ]
        }
      ]
    },
    {
      "cell_type": "markdown",
      "source": [
        "The p-value from a permutation test with 30000 permutations is:"
      ],
      "metadata": {
        "id": "gYnYzx7kBLeh"
      }
    },
    {
      "cell_type": "code",
      "source": [
        "print(str(permut_test(current_data, new_data, 30000)))"
      ],
      "metadata": {
        "colab": {
          "base_uri": "https://localhost:8080/"
        },
        "id": "HyqNYJW5BAs7",
        "outputId": "07a109ab-b648-420f-fab7-583012e1343a"
      },
      "execution_count": 38,
      "outputs": [
        {
          "output_type": "stream",
          "name": "stdout",
          "text": [
            "0.0\n"
          ]
        }
      ]
    },
    {
      "cell_type": "markdown",
      "source": [
        "Voting Data"
      ],
      "metadata": {
        "id": "C0wH4b72H31t"
      }
    },
    {
      "cell_type": "code",
      "source": [
        "dem_share_PA = [60.08, 40.64, 36.07, 41.21, 31.04, 43.78, 44.08, 46.85, 44.71, 46.15, 63.10, 52.20, 43.18, 40.24, 39.92, 47.87, 37.77, 40.11, 49.85, 48.61, 38.62, 54.25, 34.84, 47.75, 43.82, 55.97, 58.23, 42.97, 42.38, 36.11, 37.53, 42.65, 50.96, 47.43, 56.24, 45.60, 46.39, 35.22, 48.56, 32.97, 57.88, 36.05, 37.72, 50.36, 32.12, 41.55, 54.66, 57.81, 54.58, 32.88, 54.37, 40.45, 47.61, 60.49, 43.11, 27.32, 44.03, 33.56, 37.26, 54.64, 43.12, 25.34, 49.79, 83.56, 40.09, 60.81, 49.81]\n",
        "dem_share_OH = [56.94, 50.46, 65.99, 45.88, 42.23, 45.26, 57.01, 53.61, 59.10, 61.48, 43.43, 44.69, 54.59, 48.36, 45.89, 48.62, 43.92, 38.23, 28.79, 63.57, 38.07, 40.18, 43.05, 41.56, 42.49, 36.06, 52.76, 46.07, 39.43, 39.26, 47.47, 27.92, 38.01, 45.45, 29.07, 28.94, 51.28, 50.10, 39.84, 36.43, 35.71, 31.47, 47.01, 40.10, 48.76, 31.56, 39.86, 45.31, 35.47, 51.38, 46.33, 48.73, 41.77, 41.32, 48.46, 53.14, 34.01, 54.74, 40.67, 38.96, 46.29, 38.25, 6.80, 31.75, 46.33, 44.90, 33.57, 38.10, 39.67, 40.47, 49.44, 37.62, 36.71, 46.73, 42.20, 53.16, 52.40, 58.36, 68.02, 38.53, 34.58, 69.64, 60.50, 53.53, 36.54, 49.58, 41.97, 38.11]"
      ],
      "metadata": {
        "id": "0mS-xj5XJG4J"
      },
      "execution_count": 45,
      "outputs": []
    },
    {
      "cell_type": "markdown",
      "source": [
        "PA Size"
      ],
      "metadata": {
        "id": "B1wlfcuiJKct"
      }
    },
    {
      "cell_type": "code",
      "source": [
        "PA_size = len(dem_share_PA)\n",
        "print(PA_size)"
      ],
      "metadata": {
        "colab": {
          "base_uri": "https://localhost:8080/"
        },
        "id": "ekt1Pg5JJPem",
        "outputId": "699e64e2-6199-4313-edd1-6109b51e1b97"
      },
      "execution_count": 47,
      "outputs": [
        {
          "output_type": "stream",
          "name": "stdout",
          "text": [
            "67\n"
          ]
        }
      ]
    },
    {
      "cell_type": "markdown",
      "source": [
        "OH Size"
      ],
      "metadata": {
        "id": "1lQXWKG6JVa2"
      }
    },
    {
      "cell_type": "code",
      "source": [
        "OH_size = len(dem_share_OH)\n",
        "print(OH_size)"
      ],
      "metadata": {
        "colab": {
          "base_uri": "https://localhost:8080/"
        },
        "id": "aR09hTy4JWx1",
        "outputId": "3a34915b-2b28-4e36-be2e-36357d9381d5"
      },
      "execution_count": 48,
      "outputs": [
        {
          "output_type": "stream",
          "name": "stdout",
          "text": [
            "88\n"
          ]
        }
      ]
    },
    {
      "cell_type": "markdown",
      "source": [
        "The 98% confidence intervals for the means of the votes using 100000 bootstraps are :"
      ],
      "metadata": {
        "id": "D3P2KYfGJby8"
      }
    },
    {
      "cell_type": "code",
      "source": [
        "print(bootstrap_mean_ci(dem_share_OH, OH_size, 100000, 98))"
      ],
      "metadata": {
        "colab": {
          "base_uri": "https://localhost:8080/"
        },
        "id": "CMWC3e-GJtSS",
        "outputId": "f03dcadf-031f-48e4-924a-92ff0534a541"
      },
      "execution_count": 50,
      "outputs": [
        {
          "output_type": "stream",
          "name": "stdout",
          "text": [
            "(44.31703708522732, 41.870447727272726, 46.75818181818182)\n"
          ]
        }
      ]
    },
    {
      "cell_type": "code",
      "source": [
        "print(bootstrap_mean_ci(dem_share_PA, PA_size, 100000, 98))"
      ],
      "metadata": {
        "colab": {
          "base_uri": "https://localhost:8080/"
        },
        "id": "-Z8ruDDIKDOj",
        "outputId": "acdbabe2-466a-473c-a0e4-328bb6463687"
      },
      "execution_count": 51,
      "outputs": [
        {
          "output_type": "stream",
          "name": "stdout",
          "text": [
            "(45.47622100149256, 42.80626567164178, 48.33328358208955)\n"
          ]
        }
      ]
    },
    {
      "cell_type": "markdown",
      "source": [
        "Permutation Test"
      ],
      "metadata": {
        "id": "cVtb34V4KmKJ"
      }
    },
    {
      "cell_type": "code",
      "source": [
        "print(str(permut_test(dem_share_OH, dem_share_PA, 30000)))"
      ],
      "metadata": {
        "colab": {
          "base_uri": "https://localhost:8080/"
        },
        "id": "E2IvNOKgKc1P",
        "outputId": "8755308d-6181-4c2d-e6bb-74fb0ed29a4c"
      },
      "execution_count": 52,
      "outputs": [
        {
          "output_type": "stream",
          "name": "stdout",
          "text": [
            "0.1868\n"
          ]
        }
      ]
    }
  ]
}