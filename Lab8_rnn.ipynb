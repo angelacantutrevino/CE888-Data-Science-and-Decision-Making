{
  "cells": [
    {
      "cell_type": "markdown",
      "metadata": {
        "id": "view-in-github",
        "colab_type": "text"
      },
      "source": [
        "<a href=\"https://colab.research.google.com/github/angelacantutrevino/CE888-Data-Science-and-Decision-Making/blob/main/Lab8_rnn.ipynb\" target=\"_parent\"><img src=\"https://colab.research.google.com/assets/colab-badge.svg\" alt=\"Open In Colab\"/></a>"
      ]
    },
    {
      "cell_type": "markdown",
      "source": [
        "# Learning from Sequences: Timeseries and Text\n",
        "\n",
        "Created by Dr Ana Matran-Fernandez (amatra@essex.ac.uk) for CE888 (Data Science and Decision Making)\n",
        "\n",
        "This notebook accompanies lecture 8 and illustrates recurrent neural networks on an example of a timeseries (predicting tomorrow's temperature) and a classification problem on the IMDB text dataset."
      ],
      "metadata": {
        "id": "gS1IIAS-bcb-"
      }
    },
    {
      "cell_type": "markdown",
      "source": [
        "# Imports"
      ],
      "metadata": {
        "id": "0myiQp20cxRK"
      }
    },
    {
      "cell_type": "code",
      "execution_count": 1,
      "metadata": {
        "id": "1J0bYBQ7_a0L"
      },
      "outputs": [],
      "source": [
        "# imports\n",
        "import numpy as np\n",
        "import matplotlib.pyplot as plt\n",
        "import os\n",
        "import pandas as pd\n",
        "from sklearn.model_selection import train_test_split"
      ]
    },
    {
      "cell_type": "code",
      "execution_count": 2,
      "metadata": {
        "id": "U0NPDv7X_a0M"
      },
      "outputs": [],
      "source": [
        "# tensorflow imports\n",
        "from tensorflow import keras\n",
        "from keras import layers, models\n",
        "from keras.callbacks import EarlyStopping, ModelCheckpoint"
      ]
    },
    {
      "cell_type": "markdown",
      "source": [
        "# Timeseries"
      ],
      "metadata": {
        "id": "xaiw_VZjbtSH"
      }
    },
    {
      "cell_type": "code",
      "execution_count": 3,
      "metadata": {
        "colab": {
          "base_uri": "https://localhost:8080/",
          "height": 661
        },
        "id": "iA_R1Q-K_a0N",
        "outputId": "a44279c9-7e3c-405d-81fa-32f63765072f"
      },
      "outputs": [
        {
          "output_type": "execute_result",
          "data": {
            "text/plain": [
              "                  date  radiation_avg  precip  wind_avg  wind_max  temp_avg  \\\n",
              "0     14/05/2014 00:00            159     0.0       1.4       3.3     14.27   \n",
              "1     15/05/2014 00:00            280     0.0       0.6       2.3     13.51   \n",
              "2     16/05/2014 00:00            186     3.4       0.8       2.7     15.65   \n",
              "3     17/05/2014 00:00            221     0.0       1.0       3.3     17.46   \n",
              "4     18/05/2014 00:00            255     0.0       2.1       5.5     16.85   \n",
              "...                ...            ...     ...       ...       ...       ...   \n",
              "2551  17/05/2021 00:00            196     1.4       2.2       5.5     10.51   \n",
              "2552  17/05/2021 00:00            173     2.8       1.8       5.5     10.80   \n",
              "2553  18/05/2021 00:00            311     0.0       1.4       5.0     10.29   \n",
              "2554  19/05/2021 00:00            232     6.6       1.8       5.5     11.39   \n",
              "2555  20/05/2021 00:00             44     0.0       0.5       2.7      6.35   \n",
              "\n",
              "      humidity_avg  \n",
              "0            64.95  \n",
              "1            72.91  \n",
              "2            74.69  \n",
              "3            71.42  \n",
              "4            74.45  \n",
              "...            ...  \n",
              "2551         99.86  \n",
              "2552         99.86  \n",
              "2553         92.94  \n",
              "2554         90.32  \n",
              "2555         99.86  \n",
              "\n",
              "[2556 rows x 7 columns]"
            ],
            "text/html": [
              "\n",
              "  <div id=\"df-4c83757e-1304-4667-af15-5f9a1d3274ea\">\n",
              "    <div class=\"colab-df-container\">\n",
              "      <div>\n",
              "<style scoped>\n",
              "    .dataframe tbody tr th:only-of-type {\n",
              "        vertical-align: middle;\n",
              "    }\n",
              "\n",
              "    .dataframe tbody tr th {\n",
              "        vertical-align: top;\n",
              "    }\n",
              "\n",
              "    .dataframe thead th {\n",
              "        text-align: right;\n",
              "    }\n",
              "</style>\n",
              "<table border=\"1\" class=\"dataframe\">\n",
              "  <thead>\n",
              "    <tr style=\"text-align: right;\">\n",
              "      <th></th>\n",
              "      <th>date</th>\n",
              "      <th>radiation_avg</th>\n",
              "      <th>precip</th>\n",
              "      <th>wind_avg</th>\n",
              "      <th>wind_max</th>\n",
              "      <th>temp_avg</th>\n",
              "      <th>humidity_avg</th>\n",
              "    </tr>\n",
              "  </thead>\n",
              "  <tbody>\n",
              "    <tr>\n",
              "      <th>0</th>\n",
              "      <td>14/05/2014 00:00</td>\n",
              "      <td>159</td>\n",
              "      <td>0.0</td>\n",
              "      <td>1.4</td>\n",
              "      <td>3.3</td>\n",
              "      <td>14.27</td>\n",
              "      <td>64.95</td>\n",
              "    </tr>\n",
              "    <tr>\n",
              "      <th>1</th>\n",
              "      <td>15/05/2014 00:00</td>\n",
              "      <td>280</td>\n",
              "      <td>0.0</td>\n",
              "      <td>0.6</td>\n",
              "      <td>2.3</td>\n",
              "      <td>13.51</td>\n",
              "      <td>72.91</td>\n",
              "    </tr>\n",
              "    <tr>\n",
              "      <th>2</th>\n",
              "      <td>16/05/2014 00:00</td>\n",
              "      <td>186</td>\n",
              "      <td>3.4</td>\n",
              "      <td>0.8</td>\n",
              "      <td>2.7</td>\n",
              "      <td>15.65</td>\n",
              "      <td>74.69</td>\n",
              "    </tr>\n",
              "    <tr>\n",
              "      <th>3</th>\n",
              "      <td>17/05/2014 00:00</td>\n",
              "      <td>221</td>\n",
              "      <td>0.0</td>\n",
              "      <td>1.0</td>\n",
              "      <td>3.3</td>\n",
              "      <td>17.46</td>\n",
              "      <td>71.42</td>\n",
              "    </tr>\n",
              "    <tr>\n",
              "      <th>4</th>\n",
              "      <td>18/05/2014 00:00</td>\n",
              "      <td>255</td>\n",
              "      <td>0.0</td>\n",
              "      <td>2.1</td>\n",
              "      <td>5.5</td>\n",
              "      <td>16.85</td>\n",
              "      <td>74.45</td>\n",
              "    </tr>\n",
              "    <tr>\n",
              "      <th>...</th>\n",
              "      <td>...</td>\n",
              "      <td>...</td>\n",
              "      <td>...</td>\n",
              "      <td>...</td>\n",
              "      <td>...</td>\n",
              "      <td>...</td>\n",
              "      <td>...</td>\n",
              "    </tr>\n",
              "    <tr>\n",
              "      <th>2551</th>\n",
              "      <td>17/05/2021 00:00</td>\n",
              "      <td>196</td>\n",
              "      <td>1.4</td>\n",
              "      <td>2.2</td>\n",
              "      <td>5.5</td>\n",
              "      <td>10.51</td>\n",
              "      <td>99.86</td>\n",
              "    </tr>\n",
              "    <tr>\n",
              "      <th>2552</th>\n",
              "      <td>17/05/2021 00:00</td>\n",
              "      <td>173</td>\n",
              "      <td>2.8</td>\n",
              "      <td>1.8</td>\n",
              "      <td>5.5</td>\n",
              "      <td>10.80</td>\n",
              "      <td>99.86</td>\n",
              "    </tr>\n",
              "    <tr>\n",
              "      <th>2553</th>\n",
              "      <td>18/05/2021 00:00</td>\n",
              "      <td>311</td>\n",
              "      <td>0.0</td>\n",
              "      <td>1.4</td>\n",
              "      <td>5.0</td>\n",
              "      <td>10.29</td>\n",
              "      <td>92.94</td>\n",
              "    </tr>\n",
              "    <tr>\n",
              "      <th>2554</th>\n",
              "      <td>19/05/2021 00:00</td>\n",
              "      <td>232</td>\n",
              "      <td>6.6</td>\n",
              "      <td>1.8</td>\n",
              "      <td>5.5</td>\n",
              "      <td>11.39</td>\n",
              "      <td>90.32</td>\n",
              "    </tr>\n",
              "    <tr>\n",
              "      <th>2555</th>\n",
              "      <td>20/05/2021 00:00</td>\n",
              "      <td>44</td>\n",
              "      <td>0.0</td>\n",
              "      <td>0.5</td>\n",
              "      <td>2.7</td>\n",
              "      <td>6.35</td>\n",
              "      <td>99.86</td>\n",
              "    </tr>\n",
              "  </tbody>\n",
              "</table>\n",
              "<p>2556 rows × 7 columns</p>\n",
              "</div>\n",
              "      <button class=\"colab-df-convert\" onclick=\"convertToInteractive('df-4c83757e-1304-4667-af15-5f9a1d3274ea')\"\n",
              "              title=\"Convert this dataframe to an interactive table.\"\n",
              "              style=\"display:none;\">\n",
              "        \n",
              "  <svg xmlns=\"http://www.w3.org/2000/svg\" height=\"24px\"viewBox=\"0 0 24 24\"\n",
              "       width=\"24px\">\n",
              "    <path d=\"M0 0h24v24H0V0z\" fill=\"none\"/>\n",
              "    <path d=\"M18.56 5.44l.94 2.06.94-2.06 2.06-.94-2.06-.94-.94-2.06-.94 2.06-2.06.94zm-11 1L8.5 8.5l.94-2.06 2.06-.94-2.06-.94L8.5 2.5l-.94 2.06-2.06.94zm10 10l.94 2.06.94-2.06 2.06-.94-2.06-.94-.94-2.06-.94 2.06-2.06.94z\"/><path d=\"M17.41 7.96l-1.37-1.37c-.4-.4-.92-.59-1.43-.59-.52 0-1.04.2-1.43.59L10.3 9.45l-7.72 7.72c-.78.78-.78 2.05 0 2.83L4 21.41c.39.39.9.59 1.41.59.51 0 1.02-.2 1.41-.59l7.78-7.78 2.81-2.81c.8-.78.8-2.07 0-2.86zM5.41 20L4 18.59l7.72-7.72 1.47 1.35L5.41 20z\"/>\n",
              "  </svg>\n",
              "      </button>\n",
              "      \n",
              "  <style>\n",
              "    .colab-df-container {\n",
              "      display:flex;\n",
              "      flex-wrap:wrap;\n",
              "      gap: 12px;\n",
              "    }\n",
              "\n",
              "    .colab-df-convert {\n",
              "      background-color: #E8F0FE;\n",
              "      border: none;\n",
              "      border-radius: 50%;\n",
              "      cursor: pointer;\n",
              "      display: none;\n",
              "      fill: #1967D2;\n",
              "      height: 32px;\n",
              "      padding: 0 0 0 0;\n",
              "      width: 32px;\n",
              "    }\n",
              "\n",
              "    .colab-df-convert:hover {\n",
              "      background-color: #E2EBFA;\n",
              "      box-shadow: 0px 1px 2px rgba(60, 64, 67, 0.3), 0px 1px 3px 1px rgba(60, 64, 67, 0.15);\n",
              "      fill: #174EA6;\n",
              "    }\n",
              "\n",
              "    [theme=dark] .colab-df-convert {\n",
              "      background-color: #3B4455;\n",
              "      fill: #D2E3FC;\n",
              "    }\n",
              "\n",
              "    [theme=dark] .colab-df-convert:hover {\n",
              "      background-color: #434B5C;\n",
              "      box-shadow: 0px 1px 3px 1px rgba(0, 0, 0, 0.15);\n",
              "      filter: drop-shadow(0px 1px 2px rgba(0, 0, 0, 0.3));\n",
              "      fill: #FFFFFF;\n",
              "    }\n",
              "  </style>\n",
              "\n",
              "      <script>\n",
              "        const buttonEl =\n",
              "          document.querySelector('#df-4c83757e-1304-4667-af15-5f9a1d3274ea button.colab-df-convert');\n",
              "        buttonEl.style.display =\n",
              "          google.colab.kernel.accessAllowed ? 'block' : 'none';\n",
              "\n",
              "        async function convertToInteractive(key) {\n",
              "          const element = document.querySelector('#df-4c83757e-1304-4667-af15-5f9a1d3274ea');\n",
              "          const dataTable =\n",
              "            await google.colab.kernel.invokeFunction('convertToInteractive',\n",
              "                                                     [key], {});\n",
              "          if (!dataTable) return;\n",
              "\n",
              "          const docLinkHtml = 'Like what you see? Visit the ' +\n",
              "            '<a target=\"_blank\" href=https://colab.research.google.com/notebooks/data_table.ipynb>data table notebook</a>'\n",
              "            + ' to learn more about interactive tables.';\n",
              "          element.innerHTML = '';\n",
              "          dataTable['output_type'] = 'display_data';\n",
              "          await google.colab.output.renderOutput(dataTable, element);\n",
              "          const docLink = document.createElement('div');\n",
              "          docLink.innerHTML = docLinkHtml;\n",
              "          element.appendChild(docLink);\n",
              "        }\n",
              "      </script>\n",
              "    </div>\n",
              "  </div>\n",
              "  "
            ]
          },
          "metadata": {},
          "execution_count": 3
        }
      ],
      "source": [
        "df = pd.read_csv('https://raw.githubusercontent.com/albanda/CE888/master/lab8/weather.csv')\n",
        "df.drop(['temp_max', 'temp_min'], axis=1, inplace=True)\n",
        "df"
      ]
    },
    {
      "cell_type": "code",
      "execution_count": 4,
      "metadata": {
        "colab": {
          "base_uri": "https://localhost:8080/",
          "height": 279
        },
        "id": "nzsytNAh_a0N",
        "outputId": "f003ba69-f1d2-4120-f1b6-18c4d74f329e"
      },
      "outputs": [
        {
          "output_type": "display_data",
          "data": {
            "text/plain": [
              "<Figure size 432x288 with 1 Axes>"
            ],
            "image/png": "[encoded data removed]"
          },
          "metadata": {
            "needs_background": "light"
          }
        }
      ],
      "source": [
        "plt.plot(range(len(df)), df['temp_avg'])\n",
        "plt.xlabel('Temporal range')\n",
        "plt.ylabel('Average temperature (C) (7 years)')\n",
        "plt.savefig('temperature_over_time.pdf', bbox_inches='tight')"
      ]
    },
    {
      "cell_type": "code",
      "execution_count": 5,
      "metadata": {
        "colab": {
          "base_uri": "https://localhost:8080/",
          "height": 279
        },
        "id": "ysbM2n99_a0N",
        "outputId": "60090b82-9439-4de7-b4e7-45473943b492"
      },
      "outputs": [
        {
          "output_type": "display_data",
          "data": {
            "text/plain": [
              "<Figure size 432x288 with 1 Axes>"
            ],
            "image/png": "[encoded data removed]"
          },
          "metadata": {
            "needs_background": "light"
          }
        }
      ],
      "source": [
        "# Look at the first 2 years\n",
        "length = 2*365\n",
        "plt.plot(range(length), df['temp_avg'][:length])\n",
        "plt.xlabel('Temporal range')\n",
        "plt.ylabel('Average temperature (C) (2 years)')\n",
        "plt.savefig('temperature_over_time_2y.pdf', bbox_inches='tight')"
      ]
    },
    {
      "cell_type": "markdown",
      "metadata": {
        "id": "ikyqi2m7_a0O"
      },
      "source": [
        "We have clear periodicity every year. In the previous plot we saw 7 cycles (7 years). Here we see 2.\n",
        "\n",
        "Always look for periodicity in your timeseries. There will always be daily and yearly cycles. Check these patterns.\n",
        "\n",
        "Another issue with timeseries is dividing the dataset into train/validation/test sets. We definitely cannot shuffle the data, and we need to be very careful with data leakage (using data from the future)."
      ]
    },
    {
      "cell_type": "markdown",
      "metadata": {
        "id": "1fxuW2ne_a0P"
      },
      "source": [
        "## Data prep\n",
        "\n",
        "We'll try to predict the average temperature of tomorrow based on data from the past.\n",
        "\n",
        "To avoid data leakage, we're going to use a simple approach: use the first 50% of data for training, the next 30% for validation, and the final 20% for testing.\n"
      ]
    },
    {
      "cell_type": "code",
      "execution_count": 6,
      "metadata": {
        "colab": {
          "base_uri": "https://localhost:8080/"
        },
        "id": "vofGsYen_a0P",
        "outputId": "d690b87e-88ce-469e-afe9-70e10da96b8d"
      },
      "outputs": [
        {
          "output_type": "stream",
          "name": "stdout",
          "text": [
            "Samples for training: 1278; validation: 766; test: 512\n"
          ]
        }
      ],
      "source": [
        "n_tr, n_val = int(0.5*len(df)), int(0.3*len(df))\n",
        "n_te = len(df) - n_tr - n_val\n",
        "print('Samples for training: %d; validation: %d; test: %d' % (n_tr, n_val, n_te))"
      ]
    },
    {
      "cell_type": "code",
      "execution_count": 7,
      "metadata": {
        "colab": {
          "base_uri": "https://localhost:8080/"
        },
        "id": "lsMDT2Jq_a0P",
        "outputId": "27802438-4e14-4d28-c0de-f06247d819ed"
      },
      "outputs": [
        {
          "output_type": "stream",
          "name": "stdout",
          "text": [
            "(2556, 6)\n"
          ]
        }
      ],
      "source": [
        "# Get the data from the dataframe (dropping date column)\n",
        "data = df.iloc[:, 1:].values\n",
        "print(data.shape)\n",
        "assert data.shape[0] == len(df)\n",
        "assert data.shape[1] == len(df.columns)-1, \"Are you sure you're dropping the date?\"\n",
        "# We need to normalise our time series. Calculate mean and std from TRAINING DATA ONLY. \n",
        "# We'll use it on the validation and test sets.\n",
        "mean_tr = data[:n_tr, :].mean(axis=0)\n",
        "std_tr = data[:n_tr, :].std(axis=0)\n",
        "data = (data - mean_tr) / std_tr\n",
        "\n",
        "\n",
        "y = df['temp_avg'].values.reshape(-1, 1)\n",
        "\n",
        "# index of the column that contains the avg_temp\n",
        "y_idx = 4"
      ]
    },
    {
      "cell_type": "code",
      "source": [
        "data[:20, y_idx] * std_tr[y_idx] + mean_tr[y_idx]"
      ],
      "metadata": {
        "colab": {
          "base_uri": "https://localhost:8080/"
        },
        "id": "1VJAcdfICLi1",
        "outputId": "366c0758-4565-4be2-d28f-f4dc18478a30"
      },
      "execution_count": 8,
      "outputs": [
        {
          "output_type": "execute_result",
          "data": {
            "text/plain": [
              "array([14.27, 13.51, 15.65, 17.46, 16.85, 18.26, 17.35, 15.55, 14.52,\n",
              "       13.93, 11.48, 13.63, 12.81, 12.4 , 13.67, 14.15, 13.22, 12.21,\n",
              "       15.53, 14.52])"
            ]
          },
          "metadata": {},
          "execution_count": 8
        }
      ]
    },
    {
      "cell_type": "code",
      "source": [
        "y[5:25]"
      ],
      "metadata": {
        "colab": {
          "base_uri": "https://localhost:8080/"
        },
        "id": "xN-YJyEeCUv9",
        "outputId": "be75d022-d794-4b14-f2c3-a4b58e214a9e"
      },
      "execution_count": 9,
      "outputs": [
        {
          "output_type": "execute_result",
          "data": {
            "text/plain": [
              "array([[18.26],\n",
              "       [17.35],\n",
              "       [15.55],\n",
              "       [14.52],\n",
              "       [13.93],\n",
              "       [11.48],\n",
              "       [13.63],\n",
              "       [12.81],\n",
              "       [12.4 ],\n",
              "       [13.67],\n",
              "       [14.15],\n",
              "       [13.22],\n",
              "       [12.21],\n",
              "       [15.53],\n",
              "       [14.52],\n",
              "       [15.35],\n",
              "       [12.29],\n",
              "       [13.88],\n",
              "       [15.13],\n",
              "       [17.29]])"
            ]
          },
          "metadata": {},
          "execution_count": 9
        }
      ]
    },
    {
      "cell_type": "code",
      "execution_count": 10,
      "metadata": {
        "id": "K_JGeiAs_a0Q"
      },
      "outputs": [],
      "source": [
        "# We'll use a Dataset from keras to pass our data\n",
        "sampling_rate = 1  # we keep all data points\n",
        "sequence_length = 14  # 2 weeks to predict tomorrow's temperature\n",
        "delay = sampling_rate * sequence_length  # the target is the day after the end of the sequence\n",
        "batch_size = 16"
      ]
    },
    {
      "cell_type": "code",
      "execution_count": 11,
      "metadata": {
        "colab": {
          "base_uri": "https://localhost:8080/"
        },
        "id": "cRDGWNYl_a0Q",
        "outputId": "3f304c02-8daa-43b9-f471-dbbcb7eddf1f"
      },
      "outputs": [
        {
          "output_type": "stream",
          "name": "stdout",
          "text": [
            "X shape: (16, 14, 6)\n",
            "target shape: (16, 1)\n"
          ]
        }
      ],
      "source": [
        "train_dataset = keras.utils.timeseries_dataset_from_array(\n",
        "    data[:-delay],\n",
        "    targets=y[delay:],\n",
        "    sampling_rate=sampling_rate, sequence_length=sequence_length,\n",
        "    batch_size=batch_size,\n",
        "    start_index=0, end_index=n_tr  # first 50% for training\n",
        "    )\n",
        "\n",
        "val_dataset = keras.utils.timeseries_dataset_from_array(\n",
        "    data[:-delay],\n",
        "    targets=y[delay:],\n",
        "    sampling_rate=sampling_rate, sequence_length=sequence_length,\n",
        "    batch_size=batch_size,\n",
        "    start_index=n_tr, end_index=n_tr+n_val  # 50%-80% for validation\n",
        "    )\n",
        "\n",
        "test_dataset = keras.utils.timeseries_dataset_from_array(\n",
        "    data[:-delay],\n",
        "    targets=y[delay:],\n",
        "    sampling_rate=sampling_rate, sequence_length=sequence_length,\n",
        "    batch_size=batch_size,\n",
        "    start_index=n_tr+n_val  # last 20% for test\n",
        "    )\n",
        "\n",
        "for X, target in train_dataset:\n",
        "    print(\"X shape:\", X.shape)\n",
        "    print(\"target shape:\", target.shape)\n",
        "    #print(X[:, :, y_idx] * std_tr[y_idx] + mean_tr[y_idx])\n",
        "    #print(target)\n",
        "    break  # so we only print once"
      ]
    },
    {
      "cell_type": "code",
      "source": [
        "# Function to plot history with neural networks\n",
        "def plot_hist_regression(hist, y):\n",
        "  n_ = len(hist.history['mae'])\n",
        "  plt.plot(range(1, n_+1), np.asarray(hist.history['mae']), 'bo', label='MAE on training set')\n",
        "  plt.plot(range(1, n_+1), np.asarray(hist.history['val_mae']), 'b', label='MAE on validation set')\n",
        "  plt.legend()\n",
        "  plt.xlabel(\"Epoch\") \n",
        "  plt.ylabel(\"MAE (degrees)\")\n",
        "  plt.axhline(y=y)\n",
        "  plt.show()\n"
      ],
      "metadata": {
        "id": "u_v2rAW_W4kQ"
      },
      "execution_count": 12,
      "outputs": []
    },
    {
      "cell_type": "markdown",
      "metadata": {
        "id": "WlhjIvZR_a0Q"
      },
      "source": [
        "## Establishing a baseline\n"
      ]
    },
    {
      "cell_type": "markdown",
      "source": [
        "### Common sense, no ML baseline\n",
        "\n",
        "- Sanity check\n",
        "- To establish whether ML methods are actually any good\n",
        "\n",
        "Tomorrow's temperature is likely to be close to today's: let's predict that the temperature 24 hours from now will be equal to the temperature right now.\n",
        "\n",
        "We'll use the MAE as metric"
      ],
      "metadata": {
        "id": "rloJamyvWPWj"
      }
    },
    {
      "cell_type": "code",
      "execution_count": 13,
      "metadata": {
        "colab": {
          "base_uri": "https://localhost:8080/"
        },
        "id": "MUY5acIf_a0Q",
        "outputId": "e94cb319-d2b2-4b22-b1d7-127ce2ea0fb1"
      },
      "outputs": [
        {
          "output_type": "stream",
          "name": "stdout",
          "text": [
            "MAE on train set = 2.56 (degrees Celsius)\n",
            "MAE on validation set = 2.69 (degrees Celsius)\n",
            "MAE on test set = 2.85 (degrees Celsius)\n"
          ]
        }
      ],
      "source": [
        "def naive_method(dataset, mean, std):\n",
        "    error = 0\n",
        "    samples = 0\n",
        "    count = 0\n",
        "    for X, target in dataset:\n",
        "        pred = X[:, -1, y_idx] * std + mean  # predict last available temperature and un-standardise\n",
        "        #print(X.shape, target.shape, pred.shape)  # [batch_size, sequence_length, n_feats]\n",
        "        #print(X[:, -1, y_idx] * std + mean, target)\n",
        "        error += np.sum(np.abs(pred - target))\n",
        "        samples += X.shape[0]  # batch_size\n",
        "        count += 1\n",
        "    return error / samples / batch_size # average\n",
        "\n",
        "\n",
        "print('MAE on train set = %.2f (degrees Celsius)' % naive_method(train_dataset, mean_tr[y_idx], std_tr[y_idx]))\n",
        "print('MAE on validation set = %.2f (degrees Celsius)' % naive_method(val_dataset, mean_tr[y_idx], std_tr[y_idx]))\n",
        "print('MAE on test set = %.2f (degrees Celsius)' % naive_method(test_dataset, mean_tr[y_idx], std_tr[y_idx]))\n",
        "# Save MAE on validation for later\n",
        "baseline = naive_method(val_dataset, mean_tr[y_idx], std_tr[y_idx])"
      ]
    },
    {
      "cell_type": "markdown",
      "source": [
        "This baseline achieves a validation MAE of 2.69 degrees and a test MAE of 2.85 degrees. So if we assume that tomorrow's temperature will be the same as today's, we'll be off by less than 3 degrees on average.\n",
        "\n",
        "Not too bad, but surely we can do better!"
      ],
      "metadata": {
        "id": "znycUtxiJmAF"
      }
    },
    {
      "cell_type": "markdown",
      "metadata": {
        "id": "7c-duA1Z_a0R"
      },
      "source": [
        "### Simple ML baseline\n",
        "\n",
        "\n"
      ]
    },
    {
      "cell_type": "code",
      "source": [
        "# To get some practice with neural networks, we'll try a 1-layer NN with nothing fancy.\n",
        "\n",
        "model_dense = models.Sequential()\n",
        "model_dense.add(layers.Flatten(input_shape=(sequence_length, len(df.columns)-1)))  # we need to specify the input shape or we won't be able to see the summary\n",
        "model_dense.add(layers.Dense(10, activation='relu'))\n",
        "model_dense.add(layers.Dense(1))\n",
        "\n",
        "model_dense.summary()"
      ],
      "metadata": {
        "colab": {
          "base_uri": "https://localhost:8080/"
        },
        "id": "fWGqpICHJlRe",
        "outputId": "db516fd4-9b19-49f3-ce91-937c97bd91d5"
      },
      "execution_count": 14,
      "outputs": [
        {
          "output_type": "stream",
          "name": "stdout",
          "text": [
            "Model: \"sequential\"\n",
            "_________________________________________________________________\n",
            " Layer (type)                Output Shape              Param #   \n",
            "=================================================================\n",
            " flatten (Flatten)           (None, 84)                0         \n",
            "                                                                 \n",
            " dense (Dense)               (None, 10)                850       \n",
            "                                                                 \n",
            " dense_1 (Dense)             (None, 1)                 11        \n",
            "                                                                 \n",
            "=================================================================\n",
            "Total params: 861\n",
            "Trainable params: 861\n",
            "Non-trainable params: 0\n",
            "_________________________________________________________________\n"
          ]
        }
      ]
    },
    {
      "cell_type": "code",
      "source": [
        "n_epochs = 20\n",
        "\n",
        "model_dense.compile(optimizer='rmsprop', loss='mse', metrics=['mae'])\n",
        "history_dense = model_dense.fit(train_dataset, epochs=n_epochs, validation_data=val_dataset)"
      ],
      "metadata": {
        "colab": {
          "base_uri": "https://localhost:8080/"
        },
        "id": "p0Hz1rX8LMfT",
        "outputId": "f5c58ffe-d3f4-4bd8-dbe9-ab23c4a7993b"
      },
      "execution_count": 15,
      "outputs": [
        {
          "output_type": "stream",
          "name": "stdout",
          "text": [
            "Epoch 1/20\n",
            "80/80 [==============================] - 2s 16ms/step - loss: 126.8312 - mae: 10.1385 - val_loss: 105.4913 - val_mae: 9.0939\n",
            "Epoch 2/20\n",
            "80/80 [==============================] - 1s 10ms/step - loss: 90.9548 - mae: 8.5422 - val_loss: 73.5988 - val_mae: 7.5009\n",
            "Epoch 3/20\n",
            "80/80 [==============================] - 1s 16ms/step - loss: 60.4918 - mae: 6.8535 - val_loss: 48.8335 - val_mae: 5.9323\n",
            "Epoch 4/20\n",
            "80/80 [==============================] - 1s 11ms/step - loss: 40.0927 - mae: 5.3806 - val_loss: 35.2915 - val_mae: 4.8149\n",
            "Epoch 5/20\n",
            "80/80 [==============================] - 1s 13ms/step - loss: 31.5792 - mae: 4.6244 - val_loss: 30.7626 - val_mae: 4.4544\n",
            "Epoch 6/20\n",
            "80/80 [==============================] - 1s 16ms/step - loss: 29.0534 - mae: 4.3864 - val_loss: 28.9782 - val_mae: 4.3149\n",
            "Epoch 7/20\n",
            "80/80 [==============================] - 1s 10ms/step - loss: 27.5102 - mae: 4.2529 - val_loss: 27.4603 - val_mae: 4.1875\n",
            "Epoch 8/20\n",
            "80/80 [==============================] - 1s 12ms/step - loss: 26.0188 - mae: 4.1337 - val_loss: 25.9451 - val_mae: 4.0590\n",
            "Epoch 9/20\n",
            "80/80 [==============================] - 1s 10ms/step - loss: 24.5298 - mae: 4.0113 - val_loss: 24.4118 - val_mae: 3.9255\n",
            "Epoch 10/20\n",
            "80/80 [==============================] - 1s 11ms/step - loss: 23.0316 - mae: 3.8857 - val_loss: 22.9157 - val_mae: 3.7939\n",
            "Epoch 11/20\n",
            "80/80 [==============================] - 1s 13ms/step - loss: 21.5466 - mae: 3.7572 - val_loss: 21.4206 - val_mae: 3.6584\n",
            "Epoch 12/20\n",
            "80/80 [==============================] - 1s 12ms/step - loss: 20.0891 - mae: 3.6296 - val_loss: 19.9954 - val_mae: 3.5326\n",
            "Epoch 13/20\n",
            "80/80 [==============================] - 1s 10ms/step - loss: 18.7073 - mae: 3.5059 - val_loss: 18.6679 - val_mae: 3.4137\n",
            "Epoch 14/20\n",
            "80/80 [==============================] - 1s 10ms/step - loss: 17.4020 - mae: 3.3824 - val_loss: 17.4342 - val_mae: 3.3038\n",
            "Epoch 15/20\n",
            "80/80 [==============================] - 1s 8ms/step - loss: 16.1824 - mae: 3.2579 - val_loss: 16.2919 - val_mae: 3.1997\n",
            "Epoch 16/20\n",
            "80/80 [==============================] - 1s 8ms/step - loss: 15.0611 - mae: 3.1413 - val_loss: 15.2587 - val_mae: 3.1035\n",
            "Epoch 17/20\n",
            "80/80 [==============================] - 1s 9ms/step - loss: 14.0504 - mae: 3.0314 - val_loss: 14.3476 - val_mae: 3.0160\n",
            "Epoch 18/20\n",
            "80/80 [==============================] - 1s 6ms/step - loss: 13.1716 - mae: 2.9311 - val_loss: 13.5748 - val_mae: 2.9384\n",
            "Epoch 19/20\n",
            "80/80 [==============================] - 1s 6ms/step - loss: 12.4384 - mae: 2.8413 - val_loss: 12.9157 - val_mae: 2.8675\n",
            "Epoch 20/20\n",
            "80/80 [==============================] - 1s 8ms/step - loss: 11.8123 - mae: 2.7618 - val_loss: 12.3508 - val_mae: 2.8040\n"
          ]
        }
      ]
    },
    {
      "cell_type": "code",
      "source": [
        "# Plot MAE cures for validation and training\n",
        "plot_hist_regression(history_dense, baseline)"
      ],
      "metadata": {
        "colab": {
          "base_uri": "https://localhost:8080/",
          "height": 279
        },
        "id": "aBRYn-AKMCi4",
        "outputId": "040ff12d-986c-40d1-c721-bf7e6d532671"
      },
      "execution_count": 16,
      "outputs": [
        {
          "output_type": "display_data",
          "data": {
            "text/plain": [
              "<Figure size 432x288 with 1 Axes>"
            ],
            "image/png": "[encoded data removed]"
          },
          "metadata": {
            "needs_background": "light"
          }
        }
      ]
    },
    {
      "cell_type": "markdown",
      "source": [
        "Validation loss is worse than what we had with our common-sense baseline, and we're already overfitting (MAE on training set is lower than on validation set). It turns out our previous baseline is not as easy to outperform as we thought!\n",
        "\n",
        "Remember our 'hypothesis space'? Using 2 Dense layers doesn't seem to be very useful in this case. We need other types of layers for this problem."
      ],
      "metadata": {
        "id": "1EJywOA5NJa9"
      }
    },
    {
      "cell_type": "code",
      "source": [
        "# We know that CNNs take advantage of neighbouring values, so why don't we try that?\n",
        "\n",
        "# In addition to the Conv2D layers we saw last week, there are Conv1D and Conv3D layers. \n",
        "# Conv1D layers rely on 1D windows that slide across an input sequence (imagine a 1D image)\n",
        "\n",
        "model_cnn = models.Sequential()\n",
        "model_cnn.add(layers.Conv1D(8, 7, activation='relu', input_shape=(sequence_length, len(df.columns)-1)))\n",
        "model_cnn.add(layers.MaxPooling1D(2))\n",
        "model_cnn.add(layers.Conv1D(8, 3, activation='relu'))\n",
        "model_cnn.add(layers.MaxPooling1D(2))\n",
        "model_cnn.add(layers.GlobalAveragePooling1D())\n",
        "model_cnn.add(layers.Dense(1))\n",
        "\n",
        "model_cnn.summary()"
      ],
      "metadata": {
        "colab": {
          "base_uri": "https://localhost:8080/"
        },
        "id": "k6PADykQPIjq",
        "outputId": "e7e1ceb5-24b4-4d36-d39b-7aa71d48dcef"
      },
      "execution_count": 17,
      "outputs": [
        {
          "output_type": "stream",
          "name": "stdout",
          "text": [
            "Model: \"sequential_1\"\n",
            "_________________________________________________________________\n",
            " Layer (type)                Output Shape              Param #   \n",
            "=================================================================\n",
            " conv1d (Conv1D)             (None, 8, 8)              344       \n",
            "                                                                 \n",
            " max_pooling1d (MaxPooling1D  (None, 4, 8)             0         \n",
            " )                                                               \n",
            "                                                                 \n",
            " conv1d_1 (Conv1D)           (None, 2, 8)              200       \n",
            "                                                                 \n",
            " max_pooling1d_1 (MaxPooling  (None, 1, 8)             0         \n",
            " 1D)                                                             \n",
            "                                                                 \n",
            " global_average_pooling1d (G  (None, 8)                0         \n",
            " lobalAveragePooling1D)                                          \n",
            "                                                                 \n",
            " dense_2 (Dense)             (None, 1)                 9         \n",
            "                                                                 \n",
            "=================================================================\n",
            "Total params: 553\n",
            "Trainable params: 553\n",
            "Non-trainable params: 0\n",
            "_________________________________________________________________\n"
          ]
        }
      ]
    },
    {
      "cell_type": "code",
      "source": [
        "model_cnn.compile(optimizer='rmsprop', loss='mse', metrics=['mae'])\n",
        "history_cnn = model_cnn.fit(train_dataset, epochs=n_epochs,\n",
        "                            validation_data=val_dataset)"
      ],
      "metadata": {
        "colab": {
          "base_uri": "https://localhost:8080/"
        },
        "id": "PSGRJSulQs22",
        "outputId": "d041a761-b971-4ee5-9f20-7d811b632e79"
      },
      "execution_count": 18,
      "outputs": [
        {
          "output_type": "stream",
          "name": "stdout",
          "text": [
            "Epoch 1/20\n",
            "80/80 [==============================] - 1s 8ms/step - loss: 123.3212 - mae: 10.0018 - val_loss: 89.6026 - val_mae: 8.3615\n",
            "Epoch 2/20\n",
            "80/80 [==============================] - 1s 9ms/step - loss: 56.7516 - mae: 6.6037 - val_loss: 35.9400 - val_mae: 4.9959\n",
            "Epoch 3/20\n",
            "80/80 [==============================] - 1s 8ms/step - loss: 21.1053 - mae: 3.8224 - val_loss: 22.8981 - val_mae: 3.5226\n",
            "Epoch 4/20\n",
            "80/80 [==============================] - 1s 7ms/step - loss: 16.7489 - mae: 3.3209 - val_loss: 21.0878 - val_mae: 3.3257\n",
            "Epoch 5/20\n",
            "80/80 [==============================] - 1s 9ms/step - loss: 15.0176 - mae: 3.1371 - val_loss: 19.4619 - val_mae: 3.2032\n",
            "Epoch 6/20\n",
            "80/80 [==============================] - 1s 7ms/step - loss: 13.6902 - mae: 2.9895 - val_loss: 18.0754 - val_mae: 3.1086\n",
            "Epoch 7/20\n",
            "80/80 [==============================] - 1s 7ms/step - loss: 12.6676 - mae: 2.8741 - val_loss: 16.9794 - val_mae: 3.0321\n",
            "Epoch 8/20\n",
            "80/80 [==============================] - 1s 8ms/step - loss: 11.8400 - mae: 2.7762 - val_loss: 16.3197 - val_mae: 2.9792\n",
            "Epoch 9/20\n",
            "80/80 [==============================] - 1s 8ms/step - loss: 11.2306 - mae: 2.7012 - val_loss: 15.8891 - val_mae: 2.9416\n",
            "Epoch 10/20\n",
            "80/80 [==============================] - 1s 9ms/step - loss: 10.7968 - mae: 2.6456 - val_loss: 15.5609 - val_mae: 2.9132\n",
            "Epoch 11/20\n",
            "80/80 [==============================] - 1s 6ms/step - loss: 10.4544 - mae: 2.5999 - val_loss: 15.2713 - val_mae: 2.8892\n",
            "Epoch 12/20\n",
            "80/80 [==============================] - 1s 7ms/step - loss: 10.1857 - mae: 2.5634 - val_loss: 14.9622 - val_mae: 2.8660\n",
            "Epoch 13/20\n",
            "80/80 [==============================] - 1s 8ms/step - loss: 9.9557 - mae: 2.5316 - val_loss: 14.7349 - val_mae: 2.8472\n",
            "Epoch 14/20\n",
            "80/80 [==============================] - 1s 8ms/step - loss: 9.7588 - mae: 2.5038 - val_loss: 14.5208 - val_mae: 2.8293\n",
            "Epoch 15/20\n",
            "80/80 [==============================] - 1s 8ms/step - loss: 9.5813 - mae: 2.4783 - val_loss: 14.3430 - val_mae: 2.8143\n",
            "Epoch 16/20\n",
            "80/80 [==============================] - 1s 7ms/step - loss: 9.4165 - mae: 2.4547 - val_loss: 14.1873 - val_mae: 2.7995\n",
            "Epoch 17/20\n",
            "80/80 [==============================] - 1s 7ms/step - loss: 9.2742 - mae: 2.4335 - val_loss: 14.0784 - val_mae: 2.7868\n",
            "Epoch 18/20\n",
            "80/80 [==============================] - 1s 7ms/step - loss: 9.1439 - mae: 2.4138 - val_loss: 13.9669 - val_mae: 2.7761\n",
            "Epoch 19/20\n",
            "80/80 [==============================] - 1s 7ms/step - loss: 9.0144 - mae: 2.3949 - val_loss: 13.8560 - val_mae: 2.7648\n",
            "Epoch 20/20\n",
            "80/80 [==============================] - 1s 8ms/step - loss: 8.9050 - mae: 2.3782 - val_loss: 13.7682 - val_mae: 2.7544\n"
          ]
        }
      ]
    },
    {
      "cell_type": "code",
      "source": [
        "# Plot MAE cures for validation and training\n",
        "plot_hist_regression(history_cnn, baseline)"
      ],
      "metadata": {
        "colab": {
          "base_uri": "https://localhost:8080/",
          "height": 279
        },
        "id": "6bB6lzLYSG-u",
        "outputId": "c9e59bfe-9b82-49d1-d389-a3feeef32b48"
      },
      "execution_count": 19,
      "outputs": [
        {
          "output_type": "display_data",
          "data": {
            "text/plain": [
              "<Figure size 432x288 with 1 Axes>"
            ],
            "image/png": "[encoded data removed]"
          },
          "metadata": {
            "needs_background": "light"
          }
        }
      ]
    },
    {
      "cell_type": "markdown",
      "source": [
        "This model isn't any better, with a validation MAE of 2.77 degrees (also worse than the 'common-sense approach' that we tried at first), and we're overfitting a bit too.\n",
        "\n",
        "Why?\n",
        "\n",
        "In timeseries, order matters a lot: the recent past is more informative than data from 5 days ago, and convolutional layers don't take advantage of this fact -- max pooling and global average pooling layers actually destroy this order information."
      ],
      "metadata": {
        "id": "Kc2iMPSHViL1"
      }
    },
    {
      "cell_type": "markdown",
      "metadata": {
        "id": "3ozUAZX__a0R"
      },
      "source": [
        "## Long Short Term Memory (LSTM) Neural Networks\n",
        "\n",
        "\n"
      ]
    },
    {
      "cell_type": "code",
      "execution_count": 20,
      "metadata": {
        "id": "2dWfiaUw_a0R",
        "colab": {
          "base_uri": "https://localhost:8080/"
        },
        "outputId": "296a971f-785e-487e-cb4d-660f45c618fe"
      },
      "outputs": [
        {
          "output_type": "stream",
          "name": "stdout",
          "text": [
            "Model: \"sequential_2\"\n",
            "_________________________________________________________________\n",
            " Layer (type)                Output Shape              Param #   \n",
            "=================================================================\n",
            " lstm (LSTM)                 (None, 20)                2160      \n",
            "                                                                 \n",
            " dense_3 (Dense)             (None, 1)                 21        \n",
            "                                                                 \n",
            "=================================================================\n",
            "Total params: 2,181\n",
            "Trainable params: 2,181\n",
            "Non-trainable params: 0\n",
            "_________________________________________________________________\n"
          ]
        }
      ],
      "source": [
        "# 1-layer LSTM\n",
        "\n",
        "model_lstm1 = models.Sequential()\n",
        "model_lstm1.add(layers.LSTM(20, input_shape=(sequence_length, len(df.columns)-1)))\n",
        "model_lstm1.add(layers.Dense(1))\n",
        "\n",
        "model_lstm1.summary()"
      ]
    },
    {
      "cell_type": "code",
      "source": [
        "n_epochs = 20"
      ],
      "metadata": {
        "id": "DMst2Mp0R0Xi"
      },
      "execution_count": 21,
      "outputs": []
    },
    {
      "cell_type": "code",
      "source": [
        "model_lstm1.compile(optimizer='rmsprop', loss='mse', metrics=['mae'])\n",
        "history_lstm1 = model_lstm1.fit(train_dataset, epochs=n_epochs,\n",
        "                            validation_data=val_dataset)"
      ],
      "metadata": {
        "colab": {
          "base_uri": "https://localhost:8080/"
        },
        "id": "Pff2tZQHXb-z",
        "outputId": "fbbc70b5-12b0-4a37-edbd-052399a7222d"
      },
      "execution_count": 22,
      "outputs": [
        {
          "output_type": "stream",
          "name": "stdout",
          "text": [
            "Epoch 1/20\n",
            "80/80 [==============================] - 3s 16ms/step - loss: 135.3318 - mae: 10.5252 - val_loss: 113.2396 - val_mae: 9.5209\n",
            "Epoch 2/20\n",
            "80/80 [==============================] - 1s 13ms/step - loss: 92.5431 - mae: 8.5292 - val_loss: 66.6629 - val_mae: 6.7786\n",
            "Epoch 3/20\n",
            "80/80 [==============================] - 1s 13ms/step - loss: 54.1254 - mae: 6.1114 - val_loss: 44.6606 - val_mae: 5.2543\n",
            "Epoch 4/20\n",
            "80/80 [==============================] - 1s 12ms/step - loss: 39.2174 - mae: 5.1290 - val_loss: 35.0797 - val_mae: 4.6305\n",
            "Epoch 5/20\n",
            "80/80 [==============================] - 1s 13ms/step - loss: 31.1345 - mae: 4.5523 - val_loss: 29.1425 - val_mae: 4.2421\n",
            "Epoch 6/20\n",
            "80/80 [==============================] - 1s 12ms/step - loss: 25.9507 - mae: 4.1678 - val_loss: 24.8699 - val_mae: 3.9406\n",
            "Epoch 7/20\n",
            "80/80 [==============================] - 1s 12ms/step - loss: 22.0404 - mae: 3.8425 - val_loss: 21.4123 - val_mae: 3.6623\n",
            "Epoch 8/20\n",
            "80/80 [==============================] - 1s 12ms/step - loss: 18.5072 - mae: 3.5057 - val_loss: 18.1847 - val_mae: 3.3706\n",
            "Epoch 9/20\n",
            "80/80 [==============================] - 1s 11ms/step - loss: 15.1488 - mae: 3.1372 - val_loss: 15.4852 - val_mae: 3.1026\n",
            "Epoch 10/20\n",
            "80/80 [==============================] - 1s 13ms/step - loss: 12.5189 - mae: 2.8255 - val_loss: 13.4489 - val_mae: 2.8939\n",
            "Epoch 11/20\n",
            "80/80 [==============================] - 1s 12ms/step - loss: 10.6219 - mae: 2.5949 - val_loss: 11.9266 - val_mae: 2.7338\n",
            "Epoch 12/20\n",
            "80/80 [==============================] - 1s 13ms/step - loss: 9.2552 - mae: 2.4161 - val_loss: 10.7869 - val_mae: 2.6086\n",
            "Epoch 13/20\n",
            "80/80 [==============================] - 1s 11ms/step - loss: 8.2680 - mae: 2.2810 - val_loss: 9.9198 - val_mae: 2.5090\n",
            "Epoch 14/20\n",
            "80/80 [==============================] - 1s 13ms/step - loss: 7.5550 - mae: 2.1825 - val_loss: 9.2480 - val_mae: 2.4274\n",
            "Epoch 15/20\n",
            "80/80 [==============================] - 1s 13ms/step - loss: 7.0462 - mae: 2.1111 - val_loss: 8.7259 - val_mae: 2.3639\n",
            "Epoch 16/20\n",
            "80/80 [==============================] - 1s 13ms/step - loss: 6.6780 - mae: 2.0560 - val_loss: 8.3188 - val_mae: 2.3156\n",
            "Epoch 17/20\n",
            "80/80 [==============================] - 1s 11ms/step - loss: 6.3987 - mae: 2.0113 - val_loss: 7.9979 - val_mae: 2.2759\n",
            "Epoch 18/20\n",
            "80/80 [==============================] - 1s 11ms/step - loss: 6.1728 - mae: 1.9748 - val_loss: 7.7381 - val_mae: 2.2414\n",
            "Epoch 19/20\n",
            "80/80 [==============================] - 1s 12ms/step - loss: 5.9794 - mae: 1.9435 - val_loss: 7.5204 - val_mae: 2.2103\n",
            "Epoch 20/20\n",
            "80/80 [==============================] - 1s 11ms/step - loss: 5.8076 - mae: 1.9151 - val_loss: 7.3319 - val_mae: 2.1819\n"
          ]
        }
      ]
    },
    {
      "cell_type": "code",
      "source": [
        "# Plot MAE cures for validation and training\n",
        "plot_hist_regression(history_lstm1, baseline)\n"
      ],
      "metadata": {
        "id": "hr-bgDUvXmvS",
        "colab": {
          "base_uri": "https://localhost:8080/",
          "height": 279
        },
        "outputId": "bbec1a95-9847-4bd9-ddac-d52853218d37"
      },
      "execution_count": 23,
      "outputs": [
        {
          "output_type": "display_data",
          "data": {
            "text/plain": [
              "<Figure size 432x288 with 1 Axes>"
            ],
            "image/png": "[encoded data removed]"
          },
          "metadata": {
            "needs_background": "light"
          }
        }
      ]
    },
    {
      "cell_type": "code",
      "source": [
        "print('Test MAE = %.2f degrees' % model_lstm1.evaluate(test_dataset)[1])"
      ],
      "metadata": {
        "id": "0fFZvXXUcQ67",
        "colab": {
          "base_uri": "https://localhost:8080/"
        },
        "outputId": "ab66690e-4982-4a0e-ae2b-4e2a9baf1332"
      },
      "execution_count": 24,
      "outputs": [
        {
          "output_type": "stream",
          "name": "stdout",
          "text": [
            "31/31 [==============================] - 0s 5ms/step - loss: 8.7099 - mae: 2.3490\n",
            "Test MAE = 2.35 degrees\n"
          ]
        }
      ]
    },
    {
      "cell_type": "markdown",
      "source": [
        "Success! We finally beat the common-sense baseline! The validation MAE now is 2.12 degrees, and the test MAE is 2.27.\n",
        "\n",
        "Why do LSTM layers work? Let's go back to the slides"
      ],
      "metadata": {
        "id": "bYSWwI1aXvwL"
      }
    },
    {
      "cell_type": "code",
      "source": [
        "# Adding dropout\n",
        "\n",
        "model_lstm2 = models.Sequential()\n",
        "model_lstm2.add(layers.LSTM(20, input_shape=(sequence_length, len(df.columns)-1), recurrent_dropout=0.25))\n",
        "model_lstm2.add(layers.Dropout(0.4))\n",
        "model_lstm2.add(layers.Dense(1))\n",
        "\n",
        "model_lstm2.summary()"
      ],
      "metadata": {
        "id": "acSYakeOcokB",
        "colab": {
          "base_uri": "https://localhost:8080/"
        },
        "outputId": "4c47102d-0b15-4bb9-ab7e-811f9fb459b2"
      },
      "execution_count": 25,
      "outputs": [
        {
          "output_type": "stream",
          "name": "stdout",
          "text": [
            "Model: \"sequential_3\"\n",
            "_________________________________________________________________\n",
            " Layer (type)                Output Shape              Param #   \n",
            "=================================================================\n",
            " lstm_1 (LSTM)               (None, 20)                2160      \n",
            "                                                                 \n",
            " dropout (Dropout)           (None, 20)                0         \n",
            "                                                                 \n",
            " dense_4 (Dense)             (None, 1)                 21        \n",
            "                                                                 \n",
            "=================================================================\n",
            "Total params: 2,181\n",
            "Trainable params: 2,181\n",
            "Non-trainable params: 0\n",
            "_________________________________________________________________\n"
          ]
        }
      ]
    },
    {
      "cell_type": "code",
      "source": [
        "model_lstm2.compile(optimizer='rmsprop', loss='mse', metrics=['mae'])\n",
        "history_lstm2 = model_lstm2.fit(train_dataset, epochs=n_epochs,\n",
        "                            validation_data=val_dataset)"
      ],
      "metadata": {
        "id": "LvRnf9TWSWf9",
        "colab": {
          "base_uri": "https://localhost:8080/"
        },
        "outputId": "536de75a-3234-4cdb-bd27-44d517ad9731"
      },
      "execution_count": 26,
      "outputs": [
        {
          "output_type": "stream",
          "name": "stdout",
          "text": [
            "Epoch 1/20\n",
            "80/80 [==============================] - 4s 19ms/step - loss: 140.6098 - mae: 10.6409 - val_loss: 122.4166 - val_mae: 9.7606\n",
            "Epoch 2/20\n",
            "80/80 [==============================] - 1s 16ms/step - loss: 100.1261 - mae: 8.7599 - val_loss: 72.0391 - val_mae: 6.9868\n",
            "Epoch 3/20\n",
            "80/80 [==============================] - 1s 16ms/step - loss: 60.9887 - mae: 6.4850 - val_loss: 48.0025 - val_mae: 5.4585\n",
            "Epoch 4/20\n",
            "80/80 [==============================] - 1s 17ms/step - loss: 44.7134 - mae: 5.4689 - val_loss: 37.3266 - val_mae: 4.7867\n",
            "Epoch 5/20\n",
            "80/80 [==============================] - 1s 17ms/step - loss: 35.2770 - mae: 4.8147 - val_loss: 30.4229 - val_mae: 4.3280\n",
            "Epoch 6/20\n",
            "80/80 [==============================] - 1s 16ms/step - loss: 29.8812 - mae: 4.4406 - val_loss: 25.6489 - val_mae: 4.0115\n",
            "Epoch 7/20\n",
            "80/80 [==============================] - 1s 16ms/step - loss: 26.2896 - mae: 4.1334 - val_loss: 21.6747 - val_mae: 3.6874\n",
            "Epoch 8/20\n",
            "80/80 [==============================] - 1s 17ms/step - loss: 21.0899 - mae: 3.6795 - val_loss: 18.6394 - val_mae: 3.4152\n",
            "Epoch 9/20\n",
            "80/80 [==============================] - 1s 16ms/step - loss: 19.7592 - mae: 3.5659 - val_loss: 16.5710 - val_mae: 3.2246\n",
            "Epoch 10/20\n",
            "80/80 [==============================] - 1s 16ms/step - loss: 18.4030 - mae: 3.4133 - val_loss: 14.8120 - val_mae: 3.0468\n",
            "Epoch 11/20\n",
            "80/80 [==============================] - 1s 17ms/step - loss: 15.5088 - mae: 3.0940 - val_loss: 13.0592 - val_mae: 2.8452\n",
            "Epoch 12/20\n",
            "80/80 [==============================] - 1s 16ms/step - loss: 15.2364 - mae: 3.1371 - val_loss: 11.6967 - val_mae: 2.6939\n",
            "Epoch 13/20\n",
            "80/80 [==============================] - 1s 16ms/step - loss: 13.5438 - mae: 2.9496 - val_loss: 10.9323 - val_mae: 2.6161\n",
            "Epoch 14/20\n",
            "80/80 [==============================] - 1s 17ms/step - loss: 12.9723 - mae: 2.8448 - val_loss: 9.9170 - val_mae: 2.4847\n",
            "Epoch 15/20\n",
            "80/80 [==============================] - 1s 16ms/step - loss: 12.5452 - mae: 2.7956 - val_loss: 9.4577 - val_mae: 2.4386\n",
            "Epoch 16/20\n",
            "80/80 [==============================] - 1s 17ms/step - loss: 12.1231 - mae: 2.7740 - val_loss: 8.8850 - val_mae: 2.3632\n",
            "Epoch 17/20\n",
            "80/80 [==============================] - 1s 17ms/step - loss: 12.5413 - mae: 2.8045 - val_loss: 8.5452 - val_mae: 2.3318\n",
            "Epoch 18/20\n",
            "80/80 [==============================] - 1s 16ms/step - loss: 11.5042 - mae: 2.6888 - val_loss: 8.1474 - val_mae: 2.2690\n",
            "Epoch 19/20\n",
            "80/80 [==============================] - 1s 16ms/step - loss: 10.9133 - mae: 2.6289 - val_loss: 7.7531 - val_mae: 2.2234\n",
            "Epoch 20/20\n",
            "80/80 [==============================] - 1s 16ms/step - loss: 11.3407 - mae: 2.6834 - val_loss: 7.4111 - val_mae: 2.1725\n"
          ]
        }
      ]
    },
    {
      "cell_type": "code",
      "source": [
        "# Plot MAE cures for validation and training\n",
        "plot_hist_regression(history_lstm2, baseline)"
      ],
      "metadata": {
        "id": "cWpm-j9iSck1",
        "colab": {
          "base_uri": "https://localhost:8080/",
          "height": 279
        },
        "outputId": "6a304231-29a5-46ec-d14e-85659e8fa0f6"
      },
      "execution_count": 27,
      "outputs": [
        {
          "output_type": "display_data",
          "data": {
            "text/plain": [
              "<Figure size 432x288 with 1 Axes>"
            ],
            "image/png": "[encoded data removed]"
          },
          "metadata": {
            "needs_background": "light"
          }
        }
      ]
    },
    {
      "cell_type": "code",
      "source": [
        "print('Test MAE = %.2f degrees' % model_lstm2.evaluate(test_dataset)[1])"
      ],
      "metadata": {
        "id": "rAIQrQDVSmSM",
        "colab": {
          "base_uri": "https://localhost:8080/"
        },
        "outputId": "cda138a5-de91-45ec-fe43-05423e8b4e29"
      },
      "execution_count": 28,
      "outputs": [
        {
          "output_type": "stream",
          "name": "stdout",
          "text": [
            "31/31 [==============================] - 0s 5ms/step - loss: 8.3254 - mae: 2.2856\n",
            "Test MAE = 2.29 degrees\n"
          ]
        }
      ]
    },
    {
      "cell_type": "markdown",
      "source": [
        "Note that validation set MAE is now lower than MAE on training set -- no longer overfitting. Validation MAE is 2.16 and test MAE is also 2.16.\n",
        "\n",
        "NOTE: This is a very simple dataset with very small differences in performance between different models.  You'll just have to take my word for it that *in general* this approach works. "
      ],
      "metadata": {
        "id": "H3OrpvE3S4gM"
      }
    },
    {
      "cell_type": "code",
      "source": [
        "# Performance in the previous figure can (maybe) still be improved\n",
        "# Let's try to add some more layers -- we can do this now that we're no longer overfitting\n",
        "\n",
        "model_lstm3 = models.Sequential()\n",
        "model_lstm3.add(layers.LSTM(20, input_shape=(sequence_length, len(df.columns)-1), recurrent_dropout=0.25, return_sequences=True))  # NEW!\n",
        "model_lstm3.add(layers.LSTM(20, input_shape=(sequence_length, len(df.columns)-1), recurrent_dropout=0.25))  # NEW!!\n",
        "model_lstm3.add(layers.Dropout(0.4))\n",
        "model_lstm3.add(layers.Dense(1))\n",
        "model_lstm3.summary()"
      ],
      "metadata": {
        "id": "jq_ZDTttTX6_",
        "colab": {
          "base_uri": "https://localhost:8080/"
        },
        "outputId": "a4d0e3c8-a175-4beb-a78d-58c590beeeb4"
      },
      "execution_count": 29,
      "outputs": [
        {
          "output_type": "stream",
          "name": "stdout",
          "text": [
            "Model: \"sequential_4\"\n",
            "_________________________________________________________________\n",
            " Layer (type)                Output Shape              Param #   \n",
            "=================================================================\n",
            " lstm_2 (LSTM)               (None, 14, 20)            2160      \n",
            "                                                                 \n",
            " lstm_3 (LSTM)               (None, 20)                3280      \n",
            "                                                                 \n",
            " dropout_1 (Dropout)         (None, 20)                0         \n",
            "                                                                 \n",
            " dense_5 (Dense)             (None, 1)                 21        \n",
            "                                                                 \n",
            "=================================================================\n",
            "Total params: 5,461\n",
            "Trainable params: 5,461\n",
            "Non-trainable params: 0\n",
            "_________________________________________________________________\n"
          ]
        }
      ]
    },
    {
      "cell_type": "code",
      "source": [
        "model_lstm3.compile(optimizer='rmsprop', loss='mse', metrics=['mae'])\n",
        "\n",
        "callbacks = [EarlyStopping(monitor='val_mae', patience=2)]\n",
        "\n",
        "history_lstm3 = model_lstm3.fit(train_dataset, epochs=60,  # increased number of epochs\n",
        "                            validation_data=val_dataset,\n",
        "                            callbacks=callbacks)  # but added early stopping callback\n"
      ],
      "metadata": {
        "id": "9xQXChtNUxzh",
        "colab": {
          "base_uri": "https://localhost:8080/"
        },
        "outputId": "47b7f238-efff-4b44-93c7-97cb0691d14b"
      },
      "execution_count": 30,
      "outputs": [
        {
          "output_type": "stream",
          "name": "stdout",
          "text": [
            "Epoch 1/60\n",
            "80/80 [==============================] - 8s 43ms/step - loss: 121.9708 - mae: 9.7688 - val_loss: 76.8554 - val_mae: 7.2629\n",
            "Epoch 2/60\n",
            "80/80 [==============================] - 2s 27ms/step - loss: 63.5462 - mae: 6.6425 - val_loss: 49.2866 - val_mae: 5.5377\n",
            "Epoch 3/60\n",
            "80/80 [==============================] - 2s 27ms/step - loss: 46.6061 - mae: 5.5898 - val_loss: 42.0623 - val_mae: 5.2448\n",
            "Epoch 4/60\n",
            "80/80 [==============================] - 2s 26ms/step - loss: 36.3368 - mae: 4.8969 - val_loss: 32.8622 - val_mae: 4.5323\n",
            "Epoch 5/60\n",
            "80/80 [==============================] - 2s 26ms/step - loss: 31.0851 - mae: 4.5287 - val_loss: 28.9240 - val_mae: 4.3380\n",
            "Epoch 6/60\n",
            "80/80 [==============================] - 2s 29ms/step - loss: 26.6088 - mae: 4.1682 - val_loss: 23.5953 - val_mae: 3.8814\n",
            "Epoch 7/60\n",
            "80/80 [==============================] - 2s 27ms/step - loss: 23.1787 - mae: 3.8391 - val_loss: 20.9311 - val_mae: 3.6834\n",
            "Epoch 8/60\n",
            "80/80 [==============================] - 2s 27ms/step - loss: 20.5658 - mae: 3.6155 - val_loss: 19.0128 - val_mae: 3.5253\n",
            "Epoch 9/60\n",
            "80/80 [==============================] - 2s 26ms/step - loss: 18.6681 - mae: 3.4094 - val_loss: 16.2375 - val_mae: 3.2352\n",
            "Epoch 10/60\n",
            "80/80 [==============================] - 2s 27ms/step - loss: 16.0743 - mae: 3.1506 - val_loss: 13.6340 - val_mae: 2.9322\n",
            "Epoch 11/60\n",
            "80/80 [==============================] - 2s 27ms/step - loss: 15.5381 - mae: 3.1434 - val_loss: 12.8932 - val_mae: 2.8754\n",
            "Epoch 12/60\n",
            "80/80 [==============================] - 2s 27ms/step - loss: 13.4574 - mae: 2.9052 - val_loss: 11.7854 - val_mae: 2.7524\n",
            "Epoch 13/60\n",
            "80/80 [==============================] - 2s 28ms/step - loss: 13.1355 - mae: 2.8764 - val_loss: 11.3789 - val_mae: 2.7212\n",
            "Epoch 14/60\n",
            "80/80 [==============================] - 2s 27ms/step - loss: 12.0733 - mae: 2.7721 - val_loss: 10.0403 - val_mae: 2.5494\n",
            "Epoch 15/60\n",
            "80/80 [==============================] - 2s 27ms/step - loss: 12.3952 - mae: 2.7661 - val_loss: 9.8961 - val_mae: 2.5443\n",
            "Epoch 16/60\n",
            "80/80 [==============================] - 2s 28ms/step - loss: 11.9235 - mae: 2.7624 - val_loss: 9.1761 - val_mae: 2.4530\n",
            "Epoch 17/60\n",
            "80/80 [==============================] - 2s 28ms/step - loss: 11.9541 - mae: 2.7198 - val_loss: 10.0078 - val_mae: 2.5785\n",
            "Epoch 18/60\n",
            "80/80 [==============================] - 2s 27ms/step - loss: 11.2438 - mae: 2.6673 - val_loss: 8.9919 - val_mae: 2.4255\n",
            "Epoch 19/60\n",
            "80/80 [==============================] - 2s 27ms/step - loss: 10.7280 - mae: 2.5894 - val_loss: 8.0895 - val_mae: 2.3030\n",
            "Epoch 20/60\n",
            "80/80 [==============================] - 2s 29ms/step - loss: 10.0997 - mae: 2.5375 - val_loss: 7.7161 - val_mae: 2.2379\n",
            "Epoch 21/60\n",
            "80/80 [==============================] - 2s 28ms/step - loss: 10.8973 - mae: 2.6136 - val_loss: 7.9398 - val_mae: 2.2801\n",
            "Epoch 22/60\n",
            "80/80 [==============================] - 2s 26ms/step - loss: 9.9667 - mae: 2.4722 - val_loss: 7.7907 - val_mae: 2.2535\n"
          ]
        }
      ]
    },
    {
      "cell_type": "code",
      "source": [
        "# Plot MAE cures for validation and training\n",
        "plot_hist_regression(history_lstm3, baseline)\n",
        "print('Test MAE = %.2f degrees' % model_lstm3.evaluate(test_dataset)[1])"
      ],
      "metadata": {
        "id": "PtFfB3YaU4k3",
        "colab": {
          "base_uri": "https://localhost:8080/",
          "height": 314
        },
        "outputId": "58a22066-5224-4dae-92b0-8eb46dffe41d"
      },
      "execution_count": 31,
      "outputs": [
        {
          "output_type": "display_data",
          "data": {
            "text/plain": [
              "<Figure size 432x288 with 1 Axes>"
            ],
            "image/png": "[encoded data removed]"
          },
          "metadata": {
            "needs_background": "light"
          }
        },
        {
          "output_type": "stream",
          "name": "stdout",
          "text": [
            "31/31 [==============================] - 0s 7ms/step - loss: 8.4780 - mae: 2.2796\n",
            "Test MAE = 2.28 degrees\n"
          ]
        }
      ]
    },
    {
      "cell_type": "markdown",
      "source": [
        "Validation MAE = 1.92 degrees\n",
        "\n",
        "Test MAE = 1.89 degrees\n"
      ],
      "metadata": {
        "id": "eUJqRqp1XJnL"
      }
    },
    {
      "cell_type": "markdown",
      "source": [
        "# Text"
      ],
      "metadata": {
        "id": "zGEuNqw2csXj"
      }
    },
    {
      "cell_type": "markdown",
      "source": [
        "## Data prep\n",
        "\n",
        "We'll try to predict whether the review for a movie is positive or negative looking only at the text of the review.\n",
        "\n",
        "We'll use the IMDB text dataset for this task, which is available on `keras.datasets` and described [here](https://keras.io/api/datasets/imdb/). \n",
        "\n",
        "We'll merge the training and test sets and use 60% for training, 20% for validation, and 20% for testing.\n",
        "\n",
        "\n",
        "As this is a binary classificationp problem, we'll use the binary cross entropy loss function. We will keep track of accuracy when training and evaluating the model.\n"
      ],
      "metadata": {
        "id": "dtv0EjsTbwvm"
      }
    },
    {
      "cell_type": "code",
      "source": [
        "def plot_hist_classif(hist):\n",
        "  n_ = len(hist.history['accuracy'])\n",
        "  plt.plot(range(1, n_+1), 100*np.asarray(hist.history['accuracy']), 'bo', label='Accuracy on training set')\n",
        "  plt.plot(range(1, n_+1), 100*np.asarray(hist.history['val_accuracy']), 'b', label='Accuracy on validation set')\n",
        "  plt.legend()\n",
        "  plt.xlabel(\"Epoch\") \n",
        "  plt.ylabel(\"Accuracy\")\n",
        "  plt.ylim(0, 100)\n",
        "  plt.axhline(y=50)\n",
        "  plt.show()\n"
      ],
      "metadata": {
        "id": "i-mH-8IGwGo1"
      },
      "execution_count": 32,
      "outputs": []
    },
    {
      "cell_type": "code",
      "source": [
        "max_features = 15000  # only consider the top 15k words\n",
        "maxlen = 500  # first 500 words of each review\n",
        "batch_size = 32\n",
        "\n",
        "print('Loading data...')\n",
        "# Load dataset\n",
        "(x_train, y_train), (x_test, y_test) = keras.datasets.imdb.load_data(num_words=max_features)\n",
        "print(len(x_train), 'train sequences', x_train.shape)\n",
        "print(len(x_test), 'test sequences', x_test.shape)"
      ],
      "metadata": {
        "colab": {
          "base_uri": "https://localhost:8080/"
        },
        "id": "4TW3Vg49n5V-",
        "outputId": "d05cf2a3-b7e3-4d30-eb25-644ba118264e"
      },
      "execution_count": 33,
      "outputs": [
        {
          "output_type": "stream",
          "name": "stdout",
          "text": [
            "Loading data...\n",
            "25000 train sequences (25000,)\n",
            "25000 test sequences (25000,)\n"
          ]
        }
      ]
    },
    {
      "cell_type": "code",
      "source": [
        "# How balanced is this dataset?\n",
        "print(np.sum(y_train)/len(y_train))\n",
        "print(np.sum(y_test)/len(y_test))"
      ],
      "metadata": {
        "colab": {
          "base_uri": "https://localhost:8080/"
        },
        "id": "8ApTb-jYtSOm",
        "outputId": "a15de99e-e556-40cb-ec88-e241920c0f97"
      },
      "execution_count": 34,
      "outputs": [
        {
          "output_type": "stream",
          "name": "stdout",
          "text": [
            "0.5\n",
            "0.5\n"
          ]
        }
      ]
    },
    {
      "cell_type": "code",
      "source": [
        "# Merge the two datasets and divide: 60% for training, 20% validation, 20% test\n",
        "x_, y_ = np.concatenate((x_train, x_test)), np.concatenate((y_train, y_test))\n",
        "print(x_.shape, y_.shape)\n",
        "x_train, x_test, y_train, y_test = train_test_split(x_, y_, test_size=0.4, random_state=10)  # 60/40 split\n",
        "x_val, x_test, y_val, y_test = train_test_split(x_test, y_test, test_size=0.5, random_state=10)  # 50/50 split\n",
        "print(len(x_train), 'train sequences', x_train.shape)\n",
        "print(len(x_val), 'validation sequences', x_val.shape)\n",
        "print(len(x_test), 'test sequences', x_test.shape)"
      ],
      "metadata": {
        "colab": {
          "base_uri": "https://localhost:8080/"
        },
        "id": "Z53Fbicqr8tm",
        "outputId": "36744bd8-c2a8-49f0-cd59-5cb681655e78"
      },
      "execution_count": 35,
      "outputs": [
        {
          "output_type": "stream",
          "name": "stdout",
          "text": [
            "(50000,) (50000,)\n",
            "30000 train sequences (30000,)\n",
            "10000 validation sequences (10000,)\n",
            "10000 test sequences (10000,)\n"
          ]
        }
      ]
    },
    {
      "cell_type": "code",
      "source": [
        "x_train[0][:10]  # numbers!!"
      ],
      "metadata": {
        "colab": {
          "base_uri": "https://localhost:8080/"
        },
        "id": "5v_Hy-r8o8pR",
        "outputId": "9974eb13-84bc-4feb-d375-7d561a8e83ba"
      },
      "execution_count": 36,
      "outputs": [
        {
          "output_type": "execute_result",
          "data": {
            "text/plain": [
              "[1, 11531, 186, 8, 28, 6, 6482, 7, 269, 4042]"
            ]
          },
          "metadata": {},
          "execution_count": 36
        }
      ]
    },
    {
      "cell_type": "code",
      "source": [
        "# We can explore what one of the reviews looks like at this point.\n",
        "\n",
        "# Retrieve the word index file that maps words to indices\n",
        "word_index = keras.datasets.imdb.get_word_index()\n",
        "# Reverse the word index to obtain a dict mapping indices to words (which is what we have)\n",
        "inverted_word_index = dict((i, word) for (word, i) in word_index.items())\n",
        "# Decode the first sequence in the dataset\n",
        "decoded_sequence = \" \".join(inverted_word_index[i] for i in x_train[0])\n",
        "decoded_sequence"
      ],
      "metadata": {
        "colab": {
          "base_uri": "https://localhost:8080/",
          "height": 88
        },
        "id": "rgEgNSLBpFwh",
        "outputId": "97c1f42b-fbf1-4764-f968-6c4ec200bd06"
      },
      "execution_count": 37,
      "outputs": [
        {
          "output_type": "execute_result",
          "data": {
            "text/plain": [
              "\"the lilly horror in one is fatale br looks meaningless in bronson be showing as you debut film ample to and ingredients zombi ample they for series and thought she's all manipulate and believing in j show look early last quote desire tight interesting that's kind out is far shelter but of frame br and\""
            ],
            "application/vnd.google.colaboratory.intrinsic+json": {
              "type": "string"
            }
          },
          "metadata": {},
          "execution_count": 37
        }
      ]
    },
    {
      "cell_type": "code",
      "source": [
        "# Let's ensure all sequences have the same length through padding\n",
        "# - shorter reviews are padded with 0's\n",
        "# - longer reviews are cut\n",
        "print('Pad sequences')\n",
        "x_train = keras.preprocessing.sequence.pad_sequences(x_train, maxlen=maxlen)\n",
        "x_val = keras.preprocessing.sequence.pad_sequences(x_val, maxlen=maxlen)\n",
        "x_test = keras.preprocessing.sequence.pad_sequences(x_test, maxlen=maxlen)\n",
        "print('x_train shape:', x_train.shape)\n",
        "print('x_val shape:', x_val.shape)\n",
        "print('x_test shape:', x_test.shape)"
      ],
      "metadata": {
        "colab": {
          "base_uri": "https://localhost:8080/"
        },
        "id": "ibmO0V-gcthG",
        "outputId": "169a2f50-90b4-4c36-9c3c-35336c6235dc"
      },
      "execution_count": 38,
      "outputs": [
        {
          "output_type": "stream",
          "name": "stdout",
          "text": [
            "Pad sequences\n",
            "x_train shape: (30000, 500)\n",
            "x_val shape: (10000, 500)\n",
            "x_test shape: (10000, 500)\n"
          ]
        }
      ]
    },
    {
      "cell_type": "code",
      "source": [
        "# Basic feedforward model\n",
        "model = models.Sequential()\n",
        "model.add(layers.Embedding(max_features, 128, input_length=maxlen))\n",
        "model.add(layers.Dense(64, activation='relu'))\n",
        "model.add(layers.Dropout(0.5))\n",
        "model.add(layers.Dense(64, activation='relu'))\n",
        "model.add(layers.Dropout(0.5))\n",
        "model.add(layers.Flatten())\n",
        "model.add(layers.Dense(1, activation=\"sigmoid\"))\n",
        "model.summary()"
      ],
      "metadata": {
        "colab": {
          "base_uri": "https://localhost:8080/"
        },
        "id": "sBpQpwBAk44H",
        "outputId": "20aeefd3-c0cd-42c8-a250-725d6c659ad9"
      },
      "execution_count": 39,
      "outputs": [
        {
          "output_type": "stream",
          "name": "stdout",
          "text": [
            "Model: \"sequential_5\"\n",
            "_________________________________________________________________\n",
            " Layer (type)                Output Shape              Param #   \n",
            "=================================================================\n",
            " embedding (Embedding)       (None, 500, 128)          1920000   \n",
            "                                                                 \n",
            " dense_6 (Dense)             (None, 500, 64)           8256      \n",
            "                                                                 \n",
            " dropout_2 (Dropout)         (None, 500, 64)           0         \n",
            "                                                                 \n",
            " dense_7 (Dense)             (None, 500, 64)           4160      \n",
            "                                                                 \n",
            " dropout_3 (Dropout)         (None, 500, 64)           0         \n",
            "                                                                 \n",
            " flatten_1 (Flatten)         (None, 32000)             0         \n",
            "                                                                 \n",
            " dense_8 (Dense)             (None, 1)                 32001     \n",
            "                                                                 \n",
            "=================================================================\n",
            "Total params: 1,964,417\n",
            "Trainable params: 1,964,417\n",
            "Non-trainable params: 0\n",
            "_________________________________________________________________\n"
          ]
        }
      ]
    },
    {
      "cell_type": "code",
      "source": [
        "model.compile(optimizer=\"rmsprop\", loss=\"binary_crossentropy\", metrics=[\"accuracy\"])\n",
        "history = model.fit(x_train, y_train, batch_size=batch_size, epochs=20, validation_data=(x_val, y_val))"
      ],
      "metadata": {
        "colab": {
          "base_uri": "https://localhost:8080/"
        },
        "id": "-8c7tCS5vrC3",
        "outputId": "52d95720-f306-4e3f-bbcb-506ba190041f"
      },
      "execution_count": 40,
      "outputs": [
        {
          "output_type": "stream",
          "name": "stdout",
          "text": [
            "Epoch 1/20\n",
            "938/938 [==============================] - 68s 71ms/step - loss: 0.4461 - accuracy: 0.7594 - val_loss: 0.2891 - val_accuracy: 0.8828\n",
            "Epoch 2/20\n",
            "938/938 [==============================] - 67s 72ms/step - loss: 0.2450 - accuracy: 0.9033 - val_loss: 0.3054 - val_accuracy: 0.8761\n",
            "Epoch 3/20\n",
            "938/938 [==============================] - 67s 71ms/step - loss: 0.2087 - accuracy: 0.9196 - val_loss: 0.2591 - val_accuracy: 0.8970\n",
            "Epoch 4/20\n",
            "938/938 [==============================] - 66s 71ms/step - loss: 0.1912 - accuracy: 0.9254 - val_loss: 0.2697 - val_accuracy: 0.8948\n",
            "Epoch 5/20\n",
            "938/938 [==============================] - 66s 71ms/step - loss: 0.1774 - accuracy: 0.9333 - val_loss: 0.2778 - val_accuracy: 0.8907\n",
            "Epoch 6/20\n",
            "938/938 [==============================] - 66s 71ms/step - loss: 0.1679 - accuracy: 0.9369 - val_loss: 0.4377 - val_accuracy: 0.8375\n",
            "Epoch 7/20\n",
            "938/938 [==============================] - 66s 71ms/step - loss: 0.1605 - accuracy: 0.9397 - val_loss: 0.2722 - val_accuracy: 0.8972\n",
            "Epoch 8/20\n",
            "938/938 [==============================] - 66s 70ms/step - loss: 0.1515 - accuracy: 0.9422 - val_loss: 0.2812 - val_accuracy: 0.8955\n",
            "Epoch 9/20\n",
            "938/938 [==============================] - 66s 70ms/step - loss: 0.1439 - accuracy: 0.9479 - val_loss: 0.3833 - val_accuracy: 0.8602\n",
            "Epoch 10/20\n",
            "938/938 [==============================] - 66s 70ms/step - loss: 0.1380 - accuracy: 0.9491 - val_loss: 0.3540 - val_accuracy: 0.8693\n",
            "Epoch 11/20\n",
            "938/938 [==============================] - 66s 70ms/step - loss: 0.1307 - accuracy: 0.9506 - val_loss: 0.2959 - val_accuracy: 0.8900\n",
            "Epoch 12/20\n",
            "938/938 [==============================] - 66s 70ms/step - loss: 0.1262 - accuracy: 0.9543 - val_loss: 0.3076 - val_accuracy: 0.8876\n",
            "Epoch 13/20\n",
            "938/938 [==============================] - 66s 70ms/step - loss: 0.1212 - accuracy: 0.9553 - val_loss: 0.3196 - val_accuracy: 0.8886\n",
            "Epoch 14/20\n",
            "938/938 [==============================] - 66s 71ms/step - loss: 0.1129 - accuracy: 0.9585 - val_loss: 0.4130 - val_accuracy: 0.8666\n",
            "Epoch 15/20\n",
            "938/938 [==============================] - 66s 70ms/step - loss: 0.1092 - accuracy: 0.9609 - val_loss: 0.4284 - val_accuracy: 0.8585\n",
            "Epoch 16/20\n",
            "938/938 [==============================] - 66s 70ms/step - loss: 0.1044 - accuracy: 0.9626 - val_loss: 0.3782 - val_accuracy: 0.8717\n",
            "Epoch 17/20\n",
            "938/938 [==============================] - 66s 70ms/step - loss: 0.0972 - accuracy: 0.9641 - val_loss: 0.5870 - val_accuracy: 0.8340\n",
            "Epoch 18/20\n",
            "938/938 [==============================] - 66s 70ms/step - loss: 0.0944 - accuracy: 0.9661 - val_loss: 0.4551 - val_accuracy: 0.8653\n",
            "Epoch 19/20\n",
            "938/938 [==============================] - 66s 71ms/step - loss: 0.0922 - accuracy: 0.9656 - val_loss: 0.4161 - val_accuracy: 0.8792\n",
            "Epoch 20/20\n",
            "938/938 [==============================] - 66s 70ms/step - loss: 0.0866 - accuracy: 0.9700 - val_loss: 0.5163 - val_accuracy: 0.8536\n"
          ]
        }
      ]
    },
    {
      "cell_type": "code",
      "source": [
        "plot_hist_classif(history)\n",
        "print('Test Accuracy = %.2f' % model.evaluate(x_test, y_test)[1])  # overfitting!"
      ],
      "metadata": {
        "colab": {
          "base_uri": "https://localhost:8080/",
          "height": 338
        },
        "id": "dKBVw5mHv_oX",
        "outputId": "0a25a473-c58f-431a-dbbe-8b4992f5abc2"
      },
      "execution_count": 41,
      "outputs": [
        {
          "output_type": "display_data",
          "data": {
            "text/plain": [
              "<Figure size 432x288 with 1 Axes>"
            ],
            "image/png": "[encoded data removed]"
          },
          "metadata": {
            "needs_background": "light"
          }
        },
        {
          "output_type": "stream",
          "name": "stdout",
          "text": [
            "313/313 [==============================] - 4s 14ms/step - loss: 0.4963 - accuracy: 0.8614\n",
            "Test Accuracy = 0.86\n"
          ]
        }
      ]
    },
    {
      "cell_type": "code",
      "source": [
        "# Let's try an RNN\n",
        "model = models.Sequential()\n",
        "model.add(layers.Embedding(max_features, 64))\n",
        "model.add(layers.LSTM(128, return_sequences=False))\n",
        "model.add(layers.Dropout(0.5))\n",
        "model.add(layers.Dense(1, activation=\"sigmoid\"))\n",
        "model.compile(optimizer=\"rmsprop\", loss=\"binary_crossentropy\", metrics=[\"accuracy\"])\n",
        "model.summary()"
      ],
      "metadata": {
        "colab": {
          "base_uri": "https://localhost:8080/"
        },
        "id": "Ieh7Wl9Pwh8V",
        "outputId": "289ce932-e310-4eb2-a052-59b09c014c9e"
      },
      "execution_count": 42,
      "outputs": [
        {
          "output_type": "stream",
          "name": "stdout",
          "text": [
            "Model: \"sequential_6\"\n",
            "_________________________________________________________________\n",
            " Layer (type)                Output Shape              Param #   \n",
            "=================================================================\n",
            " embedding_1 (Embedding)     (None, None, 64)          960000    \n",
            "                                                                 \n",
            " lstm_4 (LSTM)               (None, 128)               98816     \n",
            "                                                                 \n",
            " dropout_4 (Dropout)         (None, 128)               0         \n",
            "                                                                 \n",
            " dense_9 (Dense)             (None, 1)                 129       \n",
            "                                                                 \n",
            "=================================================================\n",
            "Total params: 1,058,945\n",
            "Trainable params: 1,058,945\n",
            "Non-trainable params: 0\n",
            "_________________________________________________________________\n"
          ]
        }
      ]
    },
    {
      "cell_type": "code",
      "source": [
        "# This model will take a long time to train, so we add an early stopping criterion\n",
        "# N.B: It's actually much faster to train WITHOUT A GPU!!\n",
        "callbacks = [EarlyStopping(monitor='val_accuracy', patience=2)]\n",
        "history = model.fit(x_train, y_train, batch_size=batch_size, epochs=20, validation_data=(x_val, y_val), callbacks=callbacks)\n",
        "plot_hist_classif(history)\n",
        "print('Test Accuracy = %.2f' % model.evaluate(x_test, y_test)[1])\n",
        "# Note that we're still overfitting, but this is just an example of use"
      ],
      "metadata": {
        "colab": {
          "base_uri": "https://localhost:8080/",
          "height": 546
        },
        "id": "Sd54xZMmxKBQ",
        "outputId": "2f1bdb64-da59-4753-c945-8c2eba7b4a22"
      },
      "execution_count": 43,
      "outputs": [
        {
          "output_type": "stream",
          "name": "stdout",
          "text": [
            "Epoch 1/20\n",
            "938/938 [==============================] - 511s 542ms/step - loss: 0.4135 - accuracy: 0.8205 - val_loss: 0.5385 - val_accuracy: 0.8180\n",
            "Epoch 2/20\n",
            "938/938 [==============================] - 509s 542ms/step - loss: 0.2755 - accuracy: 0.8959 - val_loss: 0.2735 - val_accuracy: 0.8892\n",
            "Epoch 3/20\n",
            "938/938 [==============================] - 507s 541ms/step - loss: 0.2368 - accuracy: 0.9116 - val_loss: 0.2459 - val_accuracy: 0.9003\n",
            "Epoch 4/20\n",
            "938/938 [==============================] - 518s 552ms/step - loss: 0.2055 - accuracy: 0.9257 - val_loss: 0.2508 - val_accuracy: 0.9027\n",
            "Epoch 5/20\n",
            "938/938 [==============================] - 511s 545ms/step - loss: 0.1809 - accuracy: 0.9350 - val_loss: 0.2743 - val_accuracy: 0.9019\n",
            "Epoch 6/20\n",
            "938/938 [==============================] - 509s 542ms/step - loss: 0.1622 - accuracy: 0.9435 - val_loss: 0.3403 - val_accuracy: 0.8691\n"
          ]
        },
        {
          "output_type": "display_data",
          "data": {
            "text/plain": [
              "<Figure size 432x288 with 1 Axes>"
            ],
            "image/png": "[encoded data removed]"
          },
          "metadata": {
            "needs_background": "light"
          }
        },
        {
          "output_type": "stream",
          "name": "stdout",
          "text": [
            "313/313 [==============================] - 40s 128ms/step - loss: 0.3291 - accuracy: 0.8708\n",
            "Test Accuracy = 0.87\n"
          ]
        }
      ]
    },
    {
      "cell_type": "markdown",
      "source": [
        "## Your turn!\n",
        "\n",
        "Implement a bidirectional RNN that can outperform the LSTM model we had above.\n",
        "\n",
        "A starting skeleton could be:\n",
        " \n",
        "*   Embedding layer with an output dimension of 64\n",
        "*   Bidirectional layer with a 32-neuron LSTM layer\n",
        "*   Dense layer with 1 neuron and a sigmoid activation\n",
        "\n",
        "Some suggestions:\n",
        "\n",
        "- Change the sizes of the layers (i.e., the numbers of neurons)\n",
        "- Add dropout\n",
        "- Add other recurrent and/or bidirectional layers\n",
        "\n",
        "Once you have a model that scores over 90% on the validation set, check its performance on the test set and upload it on the code checker in Moodle.\n",
        "\n",
        "Note that the model I'm suggesting above will be able to reach the desired performance, but it will show signs of overfitting. Can you do it by adding regularization (dropout, smaller network) so you don't overfit?\n"
      ],
      "metadata": {
        "id": "kzZhXm5gkz_g"
      }
    },
    {
      "cell_type": "code",
      "source": [
        "n_ = 10  # number of epochs. You can edit this\n",
        "\n",
        "model = models.Sequential()\n",
        "model.add(layers.Embedding(max_features, 64))\n",
        "model.add(layers.Bidirectional(layers.LSTM(64, return_sequences=False)))\n",
        "model.add(layers.Dropout(0.4))\n",
        "model.add(layers.Dense(1, activation=\"sigmoid\"))\n",
        "\n",
        "# I DON'T RECOMMEND THAT YOU CHANGE CODE AFTER THIS POINT\n",
        "model.compile(optimizer=\"rmsprop\", loss=\"binary_crossentropy\", metrics=[\"accuracy\"])\n",
        "\n",
        "print(model.summary())\n",
        "\n",
        "# This model will take a long time to train, so we add an early stopping criterion\n",
        "# I've also added a ModelCheckpoint that will save the best model according to val_accuracy regardless of whether we continue training\n",
        "callbacks = [EarlyStopping(monitor='val_accuracy', patience=1),\n",
        "             ModelCheckpoint(\"model.keras\", save_best_only=True, monitor=\"val_accuracy\", mode='max')]\n",
        "\n",
        "history = model.fit(x_train, y_train, batch_size=batch_size, epochs=n_, \n",
        "                    validation_data=(x_val, y_val), \n",
        "                    callbacks=callbacks)\n",
        "plot_hist_classif(history)\n",
        "model = keras.models.load_model(\"model.keras\")\n",
        "print('Test Accuracy = %.2f' % model.evaluate(x_test, y_test)[1])"
      ],
      "metadata": {
        "id": "jCHOC7dyadaj",
        "colab": {
          "base_uri": "https://localhost:8080/",
          "height": 771
        },
        "outputId": "71b0e40c-8309-40f5-b1d9-29726e7ceb9e"
      },
      "execution_count": 44,
      "outputs": [
        {
          "output_type": "stream",
          "name": "stdout",
          "text": [
            "Model: \"sequential_7\"\n",
            "_________________________________________________________________\n",
            " Layer (type)                Output Shape              Param #   \n",
            "=================================================================\n",
            " embedding_2 (Embedding)     (None, None, 64)          960000    \n",
            "                                                                 \n",
            " bidirectional (Bidirectiona  (None, 128)              66048     \n",
            " l)                                                              \n",
            "                                                                 \n",
            " dropout_5 (Dropout)         (None, 128)               0         \n",
            "                                                                 \n",
            " dense_10 (Dense)            (None, 1)                 129       \n",
            "                                                                 \n",
            "=================================================================\n",
            "Total params: 1,026,177\n",
            "Trainable params: 1,026,177\n",
            "Non-trainable params: 0\n",
            "_________________________________________________________________\n",
            "None\n",
            "Epoch 1/10\n",
            "938/938 [==============================] - 484s 512ms/step - loss: 0.4102 - accuracy: 0.8159 - val_loss: 0.3124 - val_accuracy: 0.8671\n",
            "Epoch 2/10\n",
            "938/938 [==============================] - 481s 513ms/step - loss: 0.2705 - accuracy: 0.8971 - val_loss: 0.2714 - val_accuracy: 0.8911\n",
            "Epoch 3/10\n",
            "938/938 [==============================] - 483s 514ms/step - loss: 0.2293 - accuracy: 0.9136 - val_loss: 0.2889 - val_accuracy: 0.8845\n"
          ]
        },
        {
          "output_type": "display_data",
          "data": {
            "text/plain": [
              "<Figure size 432x288 with 1 Axes>"
            ],
            "image/png": "[encoded data removed]"
          },
          "metadata": {
            "needs_background": "light"
          }
        },
        {
          "output_type": "stream",
          "name": "stdout",
          "text": [
            "313/313 [==============================] - 30s 94ms/step - loss: 0.2685 - accuracy: 0.8958\n",
            "Test Accuracy = 0.90\n"
          ]
        }
      ]
    },
    {
      "cell_type": "code",
      "source": [
        "if model.count_params() > 1000000:\n",
        "    print(\"Due to memory constraints on Moodle, the lab quiz has a 10MB limit on your model size, so you need to use a smaller model to validate through the auto-marker.\")\n",
        "\n",
        "if history.history[\"val_accuracy\"][-1] > 0.9:\n",
        "    print(\"Your model is accurate enough!\")\n",
        "\n",
        "else:\n",
        "    print(\"Accuracy is below the threshold!\")\n",
        "    raise Exception(\"Your model isn't accurate enough to pass the progress checker!\")\n",
        "# Save the model into a local folder\n",
        "keras.models.save_model(model, \"Model.h5\",save_format='h5')\n",
        "print('Model saved! You can now upload it to the lab quiz.')"
      ],
      "metadata": {
        "id": "ZFBmg66_CR7y",
        "colab": {
          "base_uri": "https://localhost:8080/",
          "height": 306
        },
        "outputId": "dbd973d3-b325-4219-f5c5-bd04fa7610cb"
      },
      "execution_count": 45,
      "outputs": [
        {
          "output_type": "stream",
          "name": "stdout",
          "text": [
            "Due to memory constraints on Moodle, the lab quiz has a 10MB limit on your model size, so you need to use a smaller model to validate through the auto-marker.\n",
            "Accuracy is below the threshold!\n"
          ]
        },
        {
          "output_type": "error",
          "ename": "Exception",
          "evalue": "ignored",
          "traceback": [
            "\u001b[0;31m---------------------------------------------------------------------------\u001b[0m",
            "\u001b[0;31mException\u001b[0m                                 Traceback (most recent call last)",
            "\u001b[0;32m<ipython-input-45-bae412f1f1e4>\u001b[0m in \u001b[0;36m<module>\u001b[0;34m()\u001b[0m\n\u001b[1;32m      7\u001b[0m \u001b[0;32melse\u001b[0m\u001b[0;34m:\u001b[0m\u001b[0;34m\u001b[0m\u001b[0;34m\u001b[0m\u001b[0m\n\u001b[1;32m      8\u001b[0m     \u001b[0mprint\u001b[0m\u001b[0;34m(\u001b[0m\u001b[0;34m\"Accuracy is below the threshold!\"\u001b[0m\u001b[0;34m)\u001b[0m\u001b[0;34m\u001b[0m\u001b[0;34m\u001b[0m\u001b[0m\n\u001b[0;32m----> 9\u001b[0;31m     \u001b[0;32mraise\u001b[0m \u001b[0mException\u001b[0m\u001b[0;34m(\u001b[0m\u001b[0;34m\"Your model isn't accurate enough to pass the progress checker!\"\u001b[0m\u001b[0;34m)\u001b[0m\u001b[0;34m\u001b[0m\u001b[0;34m\u001b[0m\u001b[0m\n\u001b[0m\u001b[1;32m     10\u001b[0m \u001b[0;31m# Save the model into a local folder\u001b[0m\u001b[0;34m\u001b[0m\u001b[0;34m\u001b[0m\u001b[0;34m\u001b[0m\u001b[0m\n\u001b[1;32m     11\u001b[0m \u001b[0mkeras\u001b[0m\u001b[0;34m.\u001b[0m\u001b[0mmodels\u001b[0m\u001b[0;34m.\u001b[0m\u001b[0msave_model\u001b[0m\u001b[0;34m(\u001b[0m\u001b[0mmodel\u001b[0m\u001b[0;34m,\u001b[0m \u001b[0;34m\"Model.h5\"\u001b[0m\u001b[0;34m,\u001b[0m\u001b[0msave_format\u001b[0m\u001b[0;34m=\u001b[0m\u001b[0;34m'h5'\u001b[0m\u001b[0;34m)\u001b[0m\u001b[0;34m\u001b[0m\u001b[0;34m\u001b[0m\u001b[0m\n",
            "\u001b[0;31mException\u001b[0m: Your model isn't accurate enough to pass the progress checker!"
          ]
        }
      ]
    },
    {
      "cell_type": "code",
      "source": [
        ""
      ],
      "metadata": {
        "id": "hv7PyBQQsXav"
      },
      "execution_count": null,
      "outputs": []
    }
  ],
  "metadata": {
    "kernelspec": {
      "display_name": "Python 3",
      "language": "python",
      "name": "python3"
    },
    "language_info": {
      "codemirror_mode": {
        "name": "ipython",
        "version": 3
      },
      "file_extension": ".py",
      "mimetype": "text/x-python",
      "name": "python",
      "nbconvert_exporter": "python",
      "pygments_lexer": "ipython3",
      "version": "3.7.10"
    },
    "colab": {
      "name": "Lab8_rnn.ipynb",
      "provenance": [],
      "collapsed_sections": [
        "WlhjIvZR_a0Q",
        "rloJamyvWPWj",
        "7c-duA1Z_a0R",
        "3ozUAZX__a0R"
      ],
      "include_colab_link": true
    }
  },
  "nbformat": 4,
  "nbformat_minor": 0
}